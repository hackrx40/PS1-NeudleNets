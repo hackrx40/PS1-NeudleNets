{
 "cells": [
  {
   "cell_type": "markdown",
   "metadata": {},
   "source": [
    "## Create a vector database on ChromaDB.\n",
    "###### Embed the dataset into the vector database on which the query is to be done. This is a local chromaDB instance"
   ]
  },
  {
   "cell_type": "markdown",
   "metadata": {},
   "source": [
    "#### Read CSV and load dataframe"
   ]
  },
  {
   "cell_type": "code",
   "execution_count": 1,
   "metadata": {},
   "outputs": [],
   "source": [
    "import pandas as pd\n",
    "\n",
    "diseaseDB = pd.read_csv(\"data\\medicalInformation.csv\")"
   ]
  },
  {
   "cell_type": "code",
   "execution_count": 2,
   "metadata": {},
   "outputs": [
    {
     "data": {
      "text/html": [
       "<div>\n",
       "<style scoped>\n",
       "    .dataframe tbody tr th:only-of-type {\n",
       "        vertical-align: middle;\n",
       "    }\n",
       "\n",
       "    .dataframe tbody tr th {\n",
       "        vertical-align: top;\n",
       "    }\n",
       "\n",
       "    .dataframe thead th {\n",
       "        text-align: right;\n",
       "    }\n",
       "</style>\n",
       "<table border=\"1\" class=\"dataframe\">\n",
       "  <thead>\n",
       "    <tr style=\"text-align: right;\">\n",
       "      <th></th>\n",
       "      <th>Unnamed: 0</th>\n",
       "      <th>source</th>\n",
       "      <th>url</th>\n",
       "      <th>disease</th>\n",
       "      <th>text</th>\n",
       "    </tr>\n",
       "  </thead>\n",
       "  <tbody>\n",
       "    <tr>\n",
       "      <th>0</th>\n",
       "      <td>1</td>\n",
       "      <td>webmd</td>\n",
       "      <td>https://www.webmd.com/covid/coronavirus</td>\n",
       "      <td>Coronavirus</td>\n",
       "      <td>Editor's note: For the latest updates on the 2...</td>\n",
       "    </tr>\n",
       "    <tr>\n",
       "      <th>1</th>\n",
       "      <td>2</td>\n",
       "      <td>webmd</td>\n",
       "      <td>https://www.webmd.com/cold-and-flu/adult-flu-s...</td>\n",
       "      <td>Influenza</td>\n",
       "      <td>Common Flu SymptomsUnlike cold symptoms, signs...</td>\n",
       "    </tr>\n",
       "    <tr>\n",
       "      <th>2</th>\n",
       "      <td>3</td>\n",
       "      <td>webmd</td>\n",
       "      <td>https://www.webmd.com/cold-and-flu/common_cold...</td>\n",
       "      <td>Common Cold</td>\n",
       "      <td>OverviewSneezing, scratchy throat, runny nose ...</td>\n",
       "    </tr>\n",
       "    <tr>\n",
       "      <th>3</th>\n",
       "      <td>4</td>\n",
       "      <td>webmd</td>\n",
       "      <td>https://www.webmd.com/allergies/allergy-basics</td>\n",
       "      <td>Common Cold</td>\n",
       "      <td>What Is an Allergy?It's what happens when your...</td>\n",
       "    </tr>\n",
       "    <tr>\n",
       "      <th>4</th>\n",
       "      <td>5</td>\n",
       "      <td>webmd</td>\n",
       "      <td>https://www.webmd.com/lung/rsv-in-babies</td>\n",
       "      <td>Respiratory Syncytial Virus</td>\n",
       "      <td>What Is Respiratory Syncytial Virus (RSV)?Resp...</td>\n",
       "    </tr>\n",
       "  </tbody>\n",
       "</table>\n",
       "</div>"
      ],
      "text/plain": [
       "   Unnamed: 0 source                                                url  \\\n",
       "0           1  webmd            https://www.webmd.com/covid/coronavirus   \n",
       "1           2  webmd  https://www.webmd.com/cold-and-flu/adult-flu-s...   \n",
       "2           3  webmd  https://www.webmd.com/cold-and-flu/common_cold...   \n",
       "3           4  webmd     https://www.webmd.com/allergies/allergy-basics   \n",
       "4           5  webmd           https://www.webmd.com/lung/rsv-in-babies   \n",
       "\n",
       "                       disease  \\\n",
       "0                  Coronavirus   \n",
       "1                    Influenza   \n",
       "2                  Common Cold   \n",
       "3                  Common Cold   \n",
       "4  Respiratory Syncytial Virus   \n",
       "\n",
       "                                                text  \n",
       "0  Editor's note: For the latest updates on the 2...  \n",
       "1  Common Flu SymptomsUnlike cold symptoms, signs...  \n",
       "2  OverviewSneezing, scratchy throat, runny nose ...  \n",
       "3  What Is an Allergy?It's what happens when your...  \n",
       "4  What Is Respiratory Syncytial Virus (RSV)?Resp...  "
      ]
     },
     "execution_count": 2,
     "metadata": {},
     "output_type": "execute_result"
    }
   ],
   "source": [
    "diseaseDB.head()"
   ]
  },
  {
   "cell_type": "code",
   "execution_count": 3,
   "metadata": {},
   "outputs": [
    {
     "data": {
      "text/html": [
       "<div>\n",
       "<style scoped>\n",
       "    .dataframe tbody tr th:only-of-type {\n",
       "        vertical-align: middle;\n",
       "    }\n",
       "\n",
       "    .dataframe tbody tr th {\n",
       "        vertical-align: top;\n",
       "    }\n",
       "\n",
       "    .dataframe thead th {\n",
       "        text-align: right;\n",
       "    }\n",
       "</style>\n",
       "<table border=\"1\" class=\"dataframe\">\n",
       "  <thead>\n",
       "    <tr style=\"text-align: right;\">\n",
       "      <th></th>\n",
       "      <th>source</th>\n",
       "      <th>url</th>\n",
       "      <th>disease</th>\n",
       "      <th>text</th>\n",
       "    </tr>\n",
       "  </thead>\n",
       "  <tbody>\n",
       "    <tr>\n",
       "      <th>7</th>\n",
       "      <td>webmd</td>\n",
       "      <td>https://www.webmd.com/lung/lung-what-is-sars</td>\n",
       "      <td>Severe acute respiratory syndrome</td>\n",
       "      <td>Severe acute respiratory syndrome, or SARS, is...</td>\n",
       "    </tr>\n",
       "    <tr>\n",
       "      <th>3</th>\n",
       "      <td>webmd</td>\n",
       "      <td>https://www.webmd.com/allergies/allergy-basics</td>\n",
       "      <td>Common Cold</td>\n",
       "      <td>What Is an Allergy?It's what happens when your...</td>\n",
       "    </tr>\n",
       "    <tr>\n",
       "      <th>10</th>\n",
       "      <td>National Health Service</td>\n",
       "      <td>https://www.nhs.uk/conditions/covid-19/how-to-...</td>\n",
       "      <td>Coronavirus</td>\n",
       "      <td>How COVID-19 is spread COVID-19 spreads very e...</td>\n",
       "    </tr>\n",
       "    <tr>\n",
       "      <th>15</th>\n",
       "      <td>National Health Service</td>\n",
       "      <td>https://www.nhs.uk/conditions/common-cold/</td>\n",
       "      <td>Common Cold</td>\n",
       "      <td>You can often treat a cold without seeing a GP...</td>\n",
       "    </tr>\n",
       "    <tr>\n",
       "      <th>0</th>\n",
       "      <td>webmd</td>\n",
       "      <td>https://www.webmd.com/covid/coronavirus</td>\n",
       "      <td>Coronavirus</td>\n",
       "      <td>Editor's note: For the latest updates on the 2...</td>\n",
       "    </tr>\n",
       "  </tbody>\n",
       "</table>\n",
       "</div>"
      ],
      "text/plain": [
       "                     source  \\\n",
       "7                     webmd   \n",
       "3                     webmd   \n",
       "10  National Health Service   \n",
       "15  National Health Service   \n",
       "0                     webmd   \n",
       "\n",
       "                                                  url  \\\n",
       "7        https://www.webmd.com/lung/lung-what-is-sars   \n",
       "3      https://www.webmd.com/allergies/allergy-basics   \n",
       "10  https://www.nhs.uk/conditions/covid-19/how-to-...   \n",
       "15         https://www.nhs.uk/conditions/common-cold/   \n",
       "0             https://www.webmd.com/covid/coronavirus   \n",
       "\n",
       "                              disease  \\\n",
       "7   Severe acute respiratory syndrome   \n",
       "3                         Common Cold   \n",
       "10                        Coronavirus   \n",
       "15                        Common Cold   \n",
       "0                         Coronavirus   \n",
       "\n",
       "                                                 text  \n",
       "7   Severe acute respiratory syndrome, or SARS, is...  \n",
       "3   What Is an Allergy?It's what happens when your...  \n",
       "10  How COVID-19 is spread COVID-19 spreads very e...  \n",
       "15  You can often treat a cold without seeing a GP...  \n",
       "0   Editor's note: For the latest updates on the 2...  "
      ]
     },
     "execution_count": 3,
     "metadata": {},
     "output_type": "execute_result"
    }
   ],
   "source": [
    "diseaseDB.drop(diseaseDB.columns[0], axis=1,inplace=True)\n",
    "\n",
    "diseaseDB.sample(5)"
   ]
  },
  {
   "cell_type": "code",
   "execution_count": 4,
   "metadata": {},
   "outputs": [
    {
     "data": {
      "text/html": [
       "<div>\n",
       "<style scoped>\n",
       "    .dataframe tbody tr th:only-of-type {\n",
       "        vertical-align: middle;\n",
       "    }\n",
       "\n",
       "    .dataframe tbody tr th {\n",
       "        vertical-align: top;\n",
       "    }\n",
       "\n",
       "    .dataframe thead th {\n",
       "        text-align: right;\n",
       "    }\n",
       "</style>\n",
       "<table border=\"1\" class=\"dataframe\">\n",
       "  <thead>\n",
       "    <tr style=\"text-align: right;\">\n",
       "      <th></th>\n",
       "      <th>source</th>\n",
       "      <th>url</th>\n",
       "      <th>disease</th>\n",
       "      <th>text</th>\n",
       "    </tr>\n",
       "  </thead>\n",
       "  <tbody>\n",
       "    <tr>\n",
       "      <th>1</th>\n",
       "      <td>webmd</td>\n",
       "      <td>https://www.webmd.com/covid/coronavirus</td>\n",
       "      <td>Coronavirus</td>\n",
       "      <td>Editor's note: For the latest updates on the 2...</td>\n",
       "    </tr>\n",
       "    <tr>\n",
       "      <th>2</th>\n",
       "      <td>webmd</td>\n",
       "      <td>https://www.webmd.com/cold-and-flu/adult-flu-s...</td>\n",
       "      <td>Influenza</td>\n",
       "      <td>Common Flu SymptomsUnlike cold symptoms, signs...</td>\n",
       "    </tr>\n",
       "    <tr>\n",
       "      <th>3</th>\n",
       "      <td>webmd</td>\n",
       "      <td>https://www.webmd.com/cold-and-flu/common_cold...</td>\n",
       "      <td>Common Cold</td>\n",
       "      <td>OverviewSneezing, scratchy throat, runny nose ...</td>\n",
       "    </tr>\n",
       "    <tr>\n",
       "      <th>4</th>\n",
       "      <td>webmd</td>\n",
       "      <td>https://www.webmd.com/allergies/allergy-basics</td>\n",
       "      <td>Common Cold</td>\n",
       "      <td>What Is an Allergy?It's what happens when your...</td>\n",
       "    </tr>\n",
       "    <tr>\n",
       "      <th>5</th>\n",
       "      <td>webmd</td>\n",
       "      <td>https://www.webmd.com/lung/rsv-in-babies</td>\n",
       "      <td>Respiratory Syncytial Virus</td>\n",
       "      <td>What Is Respiratory Syncytial Virus (RSV)?Resp...</td>\n",
       "    </tr>\n",
       "  </tbody>\n",
       "</table>\n",
       "</div>"
      ],
      "text/plain": [
       "  source                                                url  \\\n",
       "1  webmd            https://www.webmd.com/covid/coronavirus   \n",
       "2  webmd  https://www.webmd.com/cold-and-flu/adult-flu-s...   \n",
       "3  webmd  https://www.webmd.com/cold-and-flu/common_cold...   \n",
       "4  webmd     https://www.webmd.com/allergies/allergy-basics   \n",
       "5  webmd           https://www.webmd.com/lung/rsv-in-babies   \n",
       "\n",
       "                       disease  \\\n",
       "1                  Coronavirus   \n",
       "2                    Influenza   \n",
       "3                  Common Cold   \n",
       "4                  Common Cold   \n",
       "5  Respiratory Syncytial Virus   \n",
       "\n",
       "                                                text  \n",
       "1  Editor's note: For the latest updates on the 2...  \n",
       "2  Common Flu SymptomsUnlike cold symptoms, signs...  \n",
       "3  OverviewSneezing, scratchy throat, runny nose ...  \n",
       "4  What Is an Allergy?It's what happens when your...  \n",
       "5  What Is Respiratory Syncytial Virus (RSV)?Resp...  "
      ]
     },
     "execution_count": 4,
     "metadata": {},
     "output_type": "execute_result"
    }
   ],
   "source": [
    "# Rearrange serially\n",
    "diseaseDB.index += 1\n",
    "\n",
    "diseaseDB.head()"
   ]
  },
  {
   "cell_type": "code",
   "execution_count": 5,
   "metadata": {},
   "outputs": [
    {
     "data": {
      "text/plain": [
       "(32, 4)"
      ]
     },
     "execution_count": 5,
     "metadata": {},
     "output_type": "execute_result"
    }
   ],
   "source": [
    "diseaseDB.shape"
   ]
  },
  {
   "cell_type": "markdown",
   "metadata": {},
   "source": [
    "#### Load data from CSV to ChromaDB"
   ]
  },
  {
   "cell_type": "code",
   "execution_count": 6,
   "metadata": {},
   "outputs": [],
   "source": [
    "from langchain.schema import Document\n",
    "\n",
    "# Function to create metadata of the vector database\n",
    "def create_docs(docs, row):\n",
    "    \"\"\"Function to create the document and add metadata to load into ChromaDB\"\"\"\n",
    "    document = Document(\n",
    "        page_content=row['text'],\n",
    "        metadata={\n",
    "            \"source\":row['source'],\n",
    "            \"url\":row['url'],\n",
    "            \"disease\":row['disease'],\n",
    "            \"rating\":5\n",
    "        }\n",
    "    )\n",
    "    docs.append(document)"
   ]
  },
  {
   "cell_type": "code",
   "execution_count": 7,
   "metadata": {},
   "outputs": [],
   "source": [
    "# Iterate over medical dataframe\n",
    "docs = []\n",
    "for i in diseaseDB.index:\n",
    "    create_docs(docs, diseaseDB.loc[i])"
   ]
  },
  {
   "cell_type": "code",
   "execution_count": 8,
   "metadata": {},
   "outputs": [
    {
     "data": {
      "text/plain": [
       "32"
      ]
     },
     "execution_count": 8,
     "metadata": {},
     "output_type": "execute_result"
    }
   ],
   "source": [
    "len(docs)"
   ]
  },
  {
   "cell_type": "markdown",
   "metadata": {},
   "source": [
    "#### Define embeddings"
   ]
  },
  {
   "cell_type": "code",
   "execution_count": 9,
   "metadata": {},
   "outputs": [
    {
     "name": "stderr",
     "output_type": "stream",
     "text": [
      "c:\\Users\\vkfak\\Documents\\Projects\\Bajaj_Hackrx\\Pika\\medibot_backend\\mb_env\\Lib\\site-packages\\tqdm\\auto.py:21: TqdmWarning: IProgress not found. Please update jupyter and ipywidgets. See https://ipywidgets.readthedocs.io/en/stable/user_install.html\n",
      "  from .autonotebook import tqdm as notebook_tqdm\n"
     ]
    }
   ],
   "source": [
    "# Use LangChain's embedding model\n",
    "from langchain.embeddings import SentenceTransformerEmbeddings\n",
    "\n",
    "embeddings = SentenceTransformerEmbeddings(model_name=\"all-MiniLM-L6-v2\")"
   ]
  },
  {
   "cell_type": "markdown",
   "metadata": {},
   "source": [
    "#### Chunk each document - query on smaller chunks - time taken is less"
   ]
  },
  {
   "cell_type": "code",
   "execution_count": 10,
   "metadata": {},
   "outputs": [],
   "source": [
    "# Use LangChain's text splitter\n",
    "from langchain.text_splitter import RecursiveCharacterTextSplitter\n",
    "\n",
    "text_splitter = RecursiveCharacterTextSplitter(\n",
    "    chunk_size = 200,\n",
    "    chunk_overlap = 10\n",
    ")"
   ]
  },
  {
   "cell_type": "code",
   "execution_count": 11,
   "metadata": {},
   "outputs": [
    {
     "data": {
      "text/plain": [
       "32"
      ]
     },
     "execution_count": 11,
     "metadata": {},
     "output_type": "execute_result"
    }
   ],
   "source": [
    "len(docs)"
   ]
  },
  {
   "cell_type": "code",
   "execution_count": 12,
   "metadata": {},
   "outputs": [
    {
     "data": {
      "text/plain": [
       "28957"
      ]
     },
     "execution_count": 12,
     "metadata": {},
     "output_type": "execute_result"
    }
   ],
   "source": [
    "# Test chunking\n",
    "test_document = docs[0]\n",
    "\n",
    "len(test_document.page_content)"
   ]
  },
  {
   "cell_type": "code",
   "execution_count": 13,
   "metadata": {},
   "outputs": [
    {
     "data": {
      "text/plain": [
       "[Document(page_content=\"Editor's note: For the latest updates on the 2023Â\\xa0coronavirus outbreak, see our news coverage.What Is COVID-19?COVID-19Â\\xa0is a disease caused by SARS-CoV-2 that can trigger what doctors call a\", metadata={'source': 'webmd', 'url': 'https://www.webmd.com/covid/coronavirus', 'disease': 'Coronavirus', 'rating': 5}),\n",
       " Document(page_content='call a respiratory tract infection. In early 2020, Â\\xa0the World Health Organization identified SARS-CoV-2 as a new type ofÂ\\xa0coronavirus. The outbreak quickly spread around the world. Â\\xa0It can affect', metadata={'source': 'webmd', 'url': 'https://www.webmd.com/covid/coronavirus', 'disease': 'Coronavirus', 'rating': 5}),\n",
       " Document(page_content='affect your upper respiratory tract (sinuses, nose, and throat) or lower respiratory tract (windpipe andÂ\\xa0lungs).It spreads the same way other coronaviruses do, mainly through person-to-person', metadata={'source': 'webmd', 'url': 'https://www.webmd.com/covid/coronavirus', 'disease': 'Coronavirus', 'rating': 5}),\n",
       " Document(page_content='contact. Infections range from mild to deadly.SARS-CoV-2 is one of seven types of coronavirus, including the ones that cause severe diseases like Middle East respiratory syndrome (MERS) and sudden', metadata={'source': 'webmd', 'url': 'https://www.webmd.com/covid/coronavirus', 'disease': 'Coronavirus', 'rating': 5}),\n",
       " Document(page_content=\"sudden acute respiratory syndrome (SARS). The other coronaviruses cause most of the colds that affect us during the year but aren't a serious threat to otherwise healthy people.Is there more than one\", metadata={'source': 'webmd', 'url': 'https://www.webmd.com/covid/coronavirus', 'disease': 'Coronavirus', 'rating': 5}),\n",
       " Document(page_content='than one strain of SARS-CoV-2?Yes, the COVID-19 virus continues to mutate and there are several variants that are now spreading. Some are more contagious as well as more deadly than the original', metadata={'source': 'webmd', 'url': 'https://www.webmd.com/covid/coronavirus', 'disease': 'Coronavirus', 'rating': 5}),\n",
       " Document(page_content=\"original virus.Â\\xa0 Throughout the pandemic, scientists have kept a close eye on variants like:AlphaBetaGammaDeltaEpsilonEtaIotaKappaOmicronN/AMuZetaHow long will the coronavirus last?There's no way to\", metadata={'source': 'webmd', 'url': 'https://www.webmd.com/covid/coronavirus', 'disease': 'Coronavirus', 'rating': 5}),\n",
       " Document(page_content=\"no way to tell how long the pandemic will continue. There are many factors, including the public's efforts to slow the spread, researchers' work to learn more about the virus, their search for a\", metadata={'source': 'webmd', 'url': 'https://www.webmd.com/covid/coronavirus', 'disease': 'Coronavirus', 'rating': 5}),\n",
       " Document(page_content='for a treatment, and the success of theÂ\\xa0vaccines.Symptoms of COVID-19The main symptoms include:FeverÂ\\xa0CoughingShortness of breathTrouble breathingFatigueChills, sometimes with shakingBody', metadata={'source': 'webmd', 'url': 'https://www.webmd.com/covid/coronavirus', 'disease': 'Coronavirus', 'rating': 5}),\n",
       " Document(page_content='achesHeadacheSore throatCongestion/runny noseLoss of smell or tasteNauseaDiarrheaThe virus can lead toÂ\\xa0pneumonia, respiratory failure, heart problems, liver problems,Â\\xa0septic shock, and death. Many', metadata={'source': 'webmd', 'url': 'https://www.webmd.com/covid/coronavirus', 'disease': 'Coronavirus', 'rating': 5}),\n",
       " Document(page_content='Many COVID-19 complications may be caused by a condition known as cytokine release syndrome or a cytokine storm. This is when an infection triggers your immune system to flood your bloodstream with', metadata={'source': 'webmd', 'url': 'https://www.webmd.com/covid/coronavirus', 'disease': 'Coronavirus', 'rating': 5}),\n",
       " Document(page_content='with inflammatory proteins called cytokines. They can kill tissue and damage your organs.Â\\xa0In some cases, lung transplants have been needed. If you notice the following severe symptoms in yourself or', metadata={'source': 'webmd', 'url': 'https://www.webmd.com/covid/coronavirus', 'disease': 'Coronavirus', 'rating': 5}),\n",
       " Document(page_content=\"or a loved one, get medical help right away:Trouble breathingÂ\\xa0or shortness of breathOngoingÂ\\xa0chest painÂ\\xa0or pressureConfusionCan't wake up fullyBluish lips or faceStrokes have also been reported in\", metadata={'source': 'webmd', 'url': 'https://www.webmd.com/covid/coronavirus', 'disease': 'Coronavirus', 'rating': 5}),\n",
       " Document(page_content=\"in some people who have COVID-19. Remember FAST:Face.Â\\xa0Is one side of the person's face numb or drooping? Is their smile lopsided?Arms.Â\\xa0Is one arm weak or numb? If they try to raise both arms, does\", metadata={'source': 'webmd', 'url': 'https://www.webmd.com/covid/coronavirus', 'disease': 'Coronavirus', 'rating': 5}),\n",
       " Document(page_content=\"does one arm sag?Speech.Â\\xa0Can they speak clearly? Ask them to repeat a sentence.Time.Â\\xa0Every minute counts when someone shows signs of a stroke. Call 911 right away.If you're infected, symptoms can\", metadata={'source': 'webmd', 'url': 'https://www.webmd.com/covid/coronavirus', 'disease': 'Coronavirus', 'rating': 5}),\n",
       " Document(page_content='can show up in as few as 2 days or as many as 14. It varies from person to person.According to researchers in China, these were the most common symptoms among people who had COVID-19:Fever 99%Fatigue', metadata={'source': 'webmd', 'url': 'https://www.webmd.com/covid/coronavirus', 'disease': 'Coronavirus', 'rating': 5}),\n",
       " Document(page_content='70%Cough 59%Lack of appetite 40%Body aches 35%Shortness of breath 31%Mucus/phlegm 27% Some people who are hospitalized for COVID-19Â\\xa0also have dangerous blood clots, including in their legs, lungs,', metadata={'source': 'webmd', 'url': 'https://www.webmd.com/covid/coronavirus', 'disease': 'Coronavirus', 'rating': 5}),\n",
       " Document(page_content=\"lungs, and arteries.What to do if you think you have itIf you live in or have traveled to an area where COVID-19 is spreading:If you don't feel well, stay home.Â\\xa0Even if you have mild symptoms like a\", metadata={'source': 'webmd', 'url': 'https://www.webmd.com/covid/coronavirus', 'disease': 'Coronavirus', 'rating': 5}),\n",
       " Document(page_content=\"like a headache and runny nose, stay in until you're better. This lets doctors focus on people who are more seriously ill and protects health care workers and people you might meet along the way. You\", metadata={'source': 'webmd', 'url': 'https://www.webmd.com/covid/coronavirus', 'disease': 'Coronavirus', 'rating': 5}),\n",
       " Document(page_content='way. You might hear this called self-isolation. Try to stay in a separate room away from other people in your home. Use a separate bathroom if you can.Call the doctor if you have trouble', metadata={'source': 'webmd', 'url': 'https://www.webmd.com/covid/coronavirus', 'disease': 'Coronavirus', 'rating': 5}),\n",
       " Document(page_content='trouble breathing.Â\\xa0You need to get medical help as soon as possible. and go to the emergency room.Test yourself or get tested. Home testing kits are available which can help confirm your infection', metadata={'source': 'webmd', 'url': 'https://www.webmd.com/covid/coronavirus', 'disease': 'Coronavirus', 'rating': 5}),\n",
       " Document(page_content=\"infection and let you know when it is safe to be around others. Local health officials and their online portals can also advise you where to go for testing and treatment.Follow your doctor's advice\", metadata={'source': 'webmd', 'url': 'https://www.webmd.com/covid/coronavirus', 'disease': 'Coronavirus', 'rating': 5}),\n",
       " Document(page_content=\"advice and keep up with the news on COVID-19.Â\\xa0Between your doctor and health care authorities, you'll get the care you need and information on how to prevent the virus from spreading. For more\", metadata={'source': 'webmd', 'url': 'https://www.webmd.com/covid/coronavirus', 'disease': 'Coronavirus', 'rating': 5}),\n",
       " Document(page_content=\"For more information about COVID-19,Â\\xa0see our FAQ.How do I know if it's COVID-19, a cold, or the flu?Symptoms of COVID-19 can be similar to aÂ\\xa0bad coldÂ\\xa0or the flu. Your doctor will suspect COVID-19\", metadata={'source': 'webmd', 'url': 'https://www.webmd.com/covid/coronavirus', 'disease': 'Coronavirus', 'rating': 5}),\n",
       " Document(page_content='COVID-19 if:You have a fever and a cough.You haveÂ\\xa0been exposed to people who have it within the last 14 days.Cold vs. Flu vs.Allergies vs. COVID-19SymptomsColdFluAllergiesCOVID-19(can range from', metadata={'source': 'webmd', 'url': 'https://www.webmd.com/covid/coronavirus', 'disease': 'Coronavirus', 'rating': 5}),\n",
       " Document(page_content='from moderate to severe)FeverRareHigh (100-102 F), Can last 3-4 daysNeverCommonHeadacheRareIntenseUncommonCan be presentGeneral aches, painsSlightUsual, often severeNeverCan be', metadata={'source': 'webmd', 'url': 'https://www.webmd.com/covid/coronavirus', 'disease': 'Coronavirus', 'rating': 5}),\n",
       " Document(page_content='be presentTirednessMildIntense, starts early, cSometimesCommonLonghaulÂ\\xa0exhaustionNeverUsual gone in 2-3 weeksNeverCan be presentStuffy/runny noseCommonSometimesCommonHas been', metadata={'source': 'webmd', 'url': 'https://www.webmd.com/covid/coronavirus', 'disease': 'Coronavirus', 'rating': 5}),\n",
       " Document(page_content='been reportedSneezingUsualSometimesUsualHas been reportedSore throatCommonCommonSometimesHas been reportedCoughMild to moderateCommon, can become severeSometimesCommonLoss of smell and', metadata={'source': 'webmd', 'url': 'https://www.webmd.com/covid/coronavirus', 'disease': 'Coronavirus', 'rating': 5}),\n",
       " Document(page_content='smell and tasteSometimesSometimesNeverHas been reportedRashRareRareCan HappenCan HappenPink EyeCan HappenCan HappenCan HappenCan HappenDiarrheaNeverSometimes in childrenNeverHas been', metadata={'source': 'webmd', 'url': 'https://www.webmd.com/covid/coronavirus', 'disease': 'Coronavirus', 'rating': 5}),\n",
       " Document(page_content='been reportedShortness of BreathRareRareRare, except for those with allergic asthmaIn more serious infectionsChest PainRareIn more serious infectionsRareIn more serious infections Â\\xa0Â\\xadÂ\\xad', metadata={'source': 'webmd', 'url': 'https://www.webmd.com/covid/coronavirus', 'disease': 'Coronavirus', 'rating': 5}),\n",
       " Document(page_content='COVID-19 SYMPTOM CHECKER\\n\\t\\t\\t\\t\\t\\t\\t\\t\\t\\t\\t\\n\\n\\n\\nFind Out if You Have Symptoms of Coronavirus (COVID-19)See what to do about your symptoms and whether to call a doctor', metadata={'source': 'webmd', 'url': 'https://www.webmd.com/covid/coronavirus', 'disease': 'Coronavirus', 'rating': 5}),\n",
       " Document(page_content=\"Is COVID-19 worse than the flu?Unlike the flu, a lot of people aren't immune to the coronavirus, and because it has been mutating with new strains. If you do catch it, the virus triggers your body to\", metadata={'source': 'webmd', 'url': 'https://www.webmd.com/covid/coronavirus', 'disease': 'Coronavirus', 'rating': 5}),\n",
       " Document(page_content='body to make things called antibodies. Researchers are looking at whether the antibodiesÂ\\xa0give you protection against catching it again.The coronavirus has caused higher rates of severe illness and', metadata={'source': 'webmd', 'url': 'https://www.webmd.com/covid/coronavirus', 'disease': 'Coronavirus', 'rating': 5}),\n",
       " Document(page_content='and death than the flu. But the symptoms themselves can vary widely from person to person.Is COVID-19 seasonal like the flu?While scientists hoped initially thatÂ\\xa0higher temperatures and humidity', metadata={'source': 'webmd', 'url': 'https://www.webmd.com/covid/coronavirus', 'disease': 'Coronavirus', 'rating': 5}),\n",
       " Document(page_content='humidity levels might help slow the spread of the coronavirus, that was not the case. Experts advise caution and say thorough public health efforts have more influence than weather on the spread.Â', metadata={'source': 'webmd', 'url': 'https://www.webmd.com/covid/coronavirus', 'disease': 'Coronavirus', 'rating': 5}),\n",
       " Document(page_content=\"spread.Â\\xa0 Also, past flu pandemics have happened year-round.Causes of the New CoronavirusResearchers aren't sure what caused it, and investigations as to its origin are ongoing. There's more than one\", metadata={'source': 'webmd', 'url': 'https://www.webmd.com/covid/coronavirus', 'disease': 'Coronavirus', 'rating': 5}),\n",
       " Document(page_content=\"than one type of coronavirus. They're common in people and in animals including bats, camels, cats, and cattle. SARS-CoV-2, the virus that causes COVID-19, is similar to MERS and SARS. They all came\", metadata={'source': 'webmd', 'url': 'https://www.webmd.com/covid/coronavirus', 'disease': 'Coronavirus', 'rating': 5}),\n",
       " Document(page_content='all came from bats.Coronavirus Risk FactorsAnyone can get COVID-19, and most infections are mild. The older you are, the higher your risk of severe illness.You also a have higher chance of serious', metadata={'source': 'webmd', 'url': 'https://www.webmd.com/covid/coronavirus', 'disease': 'Coronavirus', 'rating': 5}),\n",
       " Document(page_content='serious illness if you have one of these health conditions:Chronic kidney diseaseChronic obstructive pulmonary disease (COPD)A weakened immune system because of an organ transplantObesitySerious', metadata={'source': 'webmd', 'url': 'https://www.webmd.com/covid/coronavirus', 'disease': 'Coronavirus', 'rating': 5}),\n",
       " Document(page_content='heart conditions such as heart failure or coronary artery diseaseSickle cell diseaseType 2 diabetesConditions that could lead to severe COVID-19 illness include:Moderate to severe asthmaDiseases that', metadata={'source': 'webmd', 'url': 'https://www.webmd.com/covid/coronavirus', 'disease': 'Coronavirus', 'rating': 5}),\n",
       " Document(page_content='that affect your blood vessels and blood flow to your brainCystic fibrosisHigh blood pressureA weakened immune system because of a blood or bone marrow transplant, HIV, or medications like', metadata={'source': 'webmd', 'url': 'https://www.webmd.com/covid/coronavirus', 'disease': 'Coronavirus', 'rating': 5}),\n",
       " Document(page_content='like corticosteroidsDementiaLiver diseasePregnancyDamaged or scarred lung tissue (pulmonary fibrosis)SmokingThalassemiaType 1 diabetesDepressionAnxietySchizophreniaSome children and teens who are in', metadata={'source': 'webmd', 'url': 'https://www.webmd.com/covid/coronavirus', 'disease': 'Coronavirus', 'rating': 5}),\n",
       " Document(page_content='are in the hospital with COVID-19 have an inflammatory condition that doctors are calling multisystem inflammatory syndrome in children. Doctors think it may be linked to the virus. It causes', metadata={'source': 'webmd', 'url': 'https://www.webmd.com/covid/coronavirus', 'disease': 'Coronavirus', 'rating': 5}),\n",
       " Document(page_content=\"It causes symptoms similar to those of toxic shock and of Kawasaki disease, a condition that causes inflammation in kids' blood vessels.How Are Mood Disorders Linked to Severe COVID-19?If you have\", metadata={'source': 'webmd', 'url': 'https://www.webmd.com/covid/coronavirus', 'disease': 'Coronavirus', 'rating': 5}),\n",
       " Document(page_content='you have preexisting mood disorders, you may be at high risk for hospitalization or death but not necessarily severe COVID-19.That said, having schizophrenia is the biggest risk factor for besides', metadata={'source': 'webmd', 'url': 'https://www.webmd.com/covid/coronavirus', 'disease': 'Coronavirus', 'rating': 5}),\n",
       " Document(page_content='besides age for COVID mortality. Those with schizophrenia spectrum disorders are prone to metabolic syndrome, which includes increased blood pressure, high blood sugar, and is associated with', metadata={'source': 'webmd', 'url': 'https://www.webmd.com/covid/coronavirus', 'disease': 'Coronavirus', 'rating': 5}),\n",
       " Document(page_content='with systemic inflammation. All of which is exacerbated by COVID.Mood and anxiety disorders were not connected to the higher risk, but people living with mental health conditions may have certain', metadata={'source': 'webmd', 'url': 'https://www.webmd.com/covid/coronavirus', 'disease': 'Coronavirus', 'rating': 5}),\n",
       " Document(page_content='certain symptoms that can interfere with their ability to care for themselves and be engaged in their health decisions. This can make it hard to effectively follow health behaviors like maintaining', metadata={'source': 'webmd', 'url': 'https://www.webmd.com/covid/coronavirus', 'disease': 'Coronavirus', 'rating': 5}),\n",
       " Document(page_content='social distancing or staying in quarantine to reduce the spread of the infection. Moreover, people with mental health and mood disorders are also more likelyÂ\\xa0to have conditions like diabetes and', metadata={'source': 'webmd', 'url': 'https://www.webmd.com/covid/coronavirus', 'disease': 'Coronavirus', 'rating': 5}),\n",
       " Document(page_content='and heart problems which are major risk factors for severe COVID-19.There are also several socio-economic reasons why preexisting mood disorders can increase your chances of hospitalization and death', metadata={'source': 'webmd', 'url': 'https://www.webmd.com/covid/coronavirus', 'disease': 'Coronavirus', 'rating': 5}),\n",
       " Document(page_content='and death if you get COVID-19.This includes:PovertyLack of access to preventative health careAbility to understand health recommendationsLack of access to affordable health careLiving in tight spaces', metadata={'source': 'webmd', 'url': 'https://www.webmd.com/covid/coronavirus', 'disease': 'Coronavirus', 'rating': 5}),\n",
       " Document(page_content='spaces or facilities like nursing homes, homeless shelters, prisons, or psychiatric inpatient unitsCoronavirus TransmissionHow does COVID-19 spread?COVID-19 mainly spreads from person to', metadata={'source': 'webmd', 'url': 'https://www.webmd.com/covid/coronavirus', 'disease': 'Coronavirus', 'rating': 5}),\n",
       " Document(page_content='person to person.Â\\xa0People release respiratory fluids during exhalation (e.g., quiet breathing, speaking, singing, exercise, coughing, sneezing) in the form of droplets across a spectrum of sizes.', metadata={'source': 'webmd', 'url': 'https://www.webmd.com/covid/coronavirus', 'disease': 'Coronavirus', 'rating': 5}),\n",
       " Document(page_content='of sizes. These droplets carry viruses and transmit infection.Â\\xa0The largest droplets settle out of the air rapidly, within seconds to minutes.Â\\xa0The smallest very fine droplets, and aerosol particles', metadata={'source': 'webmd', 'url': 'https://www.webmd.com/covid/coronavirus', 'disease': 'Coronavirus', 'rating': 5}),\n",
       " Document(page_content='particles formed when these fine droplets rapidly dry, are small enough that they can remain suspended in the air for minutes to hours.The risk of transmission is greatest within three to six feet of', metadata={'source': 'webmd', 'url': 'https://www.webmd.com/covid/coronavirus', 'disease': 'Coronavirus', 'rating': 5}),\n",
       " Document(page_content='feet of an infectious source where the concentration of these very fine droplets and particles is greatest. If you breathe them in or swallow them, the virus can get into your body. Some people who', metadata={'source': 'webmd', 'url': 'https://www.webmd.com/covid/coronavirus', 'disease': 'Coronavirus', 'rating': 5}),\n",
       " Document(page_content=\"who have the virus don't have symptoms, but they can still spread the virus.While less likely, you can also get the virus from touching a surface or object the virus is on, then touching your mouth,\", metadata={'source': 'webmd', 'url': 'https://www.webmd.com/covid/coronavirus', 'disease': 'Coronavirus', 'rating': 5}),\n",
       " Document(page_content='mouth, nose, or possibly your eyes. Most viruses can live for several hours on a surface that they land on. OVID-19 can last for several hours on various types of surfaces:Copper (pennies,', metadata={'source': 'webmd', 'url': 'https://www.webmd.com/covid/coronavirus', 'disease': 'Coronavirus', 'rating': 5}),\n",
       " Document(page_content='(pennies, teakettles, cookware): 4 hoursCardboard (shipping boxes): up to 24 hoursPlastic (milk containers, detergent bottles, subway and bus seats, elevator buttons):2 to 3 daysStainless steel', metadata={'source': 'webmd', 'url': 'https://www.webmd.com/covid/coronavirus', 'disease': 'Coronavirus', 'rating': 5}),\n",
       " Document(page_content=\"steel (refrigerators, pots and pans, sinks, some water bottles): 2 to 3 daysThat's why it's important to wash or sanitize your hands regularly and disinfect surfaces to get rid of the virus. Some\", metadata={'source': 'webmd', 'url': 'https://www.webmd.com/covid/coronavirus', 'disease': 'Coronavirus', 'rating': 5}),\n",
       " Document(page_content=\"Some dogs and cats have tested positive for the virus. A few have shown signs of illness. There's no evidence that humans can catch this coronavirus from an animal, but it appears it can be passed\", metadata={'source': 'webmd', 'url': 'https://www.webmd.com/covid/coronavirus', 'disease': 'Coronavirus', 'rating': 5}),\n",
       " Document(page_content=\"be passed from humans to animals.What is community spread?Doctors and health officials use this term when they don't know the source of the infection. With COVID-19, it usually refers to someone who\", metadata={'source': 'webmd', 'url': 'https://www.webmd.com/covid/coronavirus', 'disease': 'Coronavirus', 'rating': 5}),\n",
       " Document(page_content=\"who gets the virus even though they haven'tÂ\\xa0been exposed to someoneÂ\\xa0who has COVID-19.In February 2020, the CDC confirmed a COVID-19 infection in California in a person who had not traveled to an\", metadata={'source': 'webmd', 'url': 'https://www.webmd.com/covid/coronavirus', 'disease': 'Coronavirus', 'rating': 5}),\n",
       " Document(page_content=\"to an affected area or been exposed to someone with the disease. This marked the first instance of community spread in the U.S. It's likely that person was exposed to someone who was infected but\", metadata={'source': 'webmd', 'url': 'https://www.webmd.com/covid/coronavirus', 'disease': 'Coronavirus', 'rating': 5}),\n",
       " Document(page_content=\"but didn't know it. This type of occurrence has been happening with the variants as well.How fast is it spreading?The number of people infected or re-infected by COVID-19 changes every day. See our\", metadata={'source': 'webmd', 'url': 'https://www.webmd.com/covid/coronavirus', 'disease': 'Coronavirus', 'rating': 5}),\n",
       " Document(page_content='See our news story for the latest updates on this developing story. How contagious is the coronavirus?The transmission rate is relatively high. Early research has estimated that one person who has it', metadata={'source': 'webmd', 'url': 'https://www.webmd.com/covid/coronavirus', 'disease': 'Coronavirus', 'rating': 5}),\n",
       " Document(page_content='has it can spread it to between 2 and 3.5 others. By comparison, one person who has the seasonal flu will pass it to between 1.1 and 2.3 others.The Omicron variant, which is now the dominant strain', metadata={'source': 'webmd', 'url': 'https://www.webmd.com/covid/coronavirus', 'disease': 'Coronavirus', 'rating': 5}),\n",
       " Document(page_content='strain of COVID-19 in the United States, is highly contagious and spreads faster than the original virus.Â\\xa0The CDC reports there is evidence COVID-19 can be transmitted if you get within 6 feet of', metadata={'source': 'webmd', 'url': 'https://www.webmd.com/covid/coronavirus', 'disease': 'Coronavirus', 'rating': 5}),\n",
       " Document(page_content=\"6 feet of someone who is infectious for a total of 15 minutes throughout a day.Â\\xa0We can work to lower the transmission rate byÂ\\xa0wearing high-quality face masks when we can't stay 6 feet away from\", metadata={'source': 'webmd', 'url': 'https://www.webmd.com/covid/coronavirus', 'disease': 'Coronavirus', 'rating': 5}),\n",
       " Document(page_content='away from others,Â\\xa0washing hands often, keeping common surfaces clean, limiting contact with other people, and getting vaccinated.Can coronavirus be transmitted through groceries, packages, or', metadata={'source': 'webmd', 'url': 'https://www.webmd.com/covid/coronavirus', 'disease': 'Coronavirus', 'rating': 5}),\n",
       " Document(page_content=\"or food?You're much more likely to get COVID-19 from another person than from packages, groceries, or food. If you're in a high-risk group, stay home and use a delivery service or have a friend shop\", metadata={'source': 'webmd', 'url': 'https://www.webmd.com/covid/coronavirus', 'disease': 'Coronavirus', 'rating': 5}),\n",
       " Document(page_content='shop for you. Have them leave the items outside your front door, if you can. If you do your own shopping, wear a high-quality face mask and try to stay at least 6 feet away from other shoppers. Wash', metadata={'source': 'webmd', 'url': 'https://www.webmd.com/covid/coronavirus', 'disease': 'Coronavirus', 'rating': 5}),\n",
       " Document(page_content='Wash your hands for at least 20 seconds before and after bringing things into your home. The coronavirus can linger on hard surfaces, so clean and disinfect countertops and anything else your bags', metadata={'source': 'webmd', 'url': 'https://www.webmd.com/covid/coronavirus', 'disease': 'Coronavirus', 'rating': 5}),\n",
       " Document(page_content=\"your bags has touched. You can wipe down plastic, metal, or glass packaging with soap and water if you want.There's no evidence that anyone has gotten COVID-19 from food or food\", metadata={'source': 'webmd', 'url': 'https://www.webmd.com/covid/coronavirus', 'disease': 'Coronavirus', 'rating': 5}),\n",
       " Document(page_content=\"or food containers.Coronavirus DiagnosisCall your doctor or local health department if you think you've been exposed and have symptoms like:Fever of 100 F or higherCoughTrouble breathingHome testing\", metadata={'source': 'webmd', 'url': 'https://www.webmd.com/covid/coronavirus', 'disease': 'Coronavirus', 'rating': 5}),\n",
       " Document(page_content='testing has advanced considerably since the beginning of the pandemic and you can readily test yourself.Â\\xa0Otherwise, testing facilities are readily available in most areas.Â\\xa0While some require an', metadata={'source': 'webmd', 'url': 'https://www.webmd.com/covid/coronavirus', 'disease': 'Coronavirus', 'rating': 5}),\n",
       " Document(page_content='an appointment, others are simply drive-up. Home testing kits are also widely available.A swab test is the most common testing method. It looks for signs of the virus in your upper respiratory tract.', metadata={'source': 'webmd', 'url': 'https://www.webmd.com/covid/coronavirus', 'disease': 'Coronavirus', 'rating': 5}),\n",
       " Document(page_content='tract. You or the person giving the test puts a swab up your nose to get a sample from the back of your nose and throat. That sample usually goes to a lab that looks for viral material, but some', metadata={'source': 'webmd', 'url': 'https://www.webmd.com/covid/coronavirus', 'disease': 'Coronavirus', 'rating': 5}),\n",
       " Document(page_content=\"but some areas may have rapid tests that give results in as little as 15 minutes. If there are signs of the virus, the test is positive. A negative test could mean there is no virus or there wasn't\", metadata={'source': 'webmd', 'url': 'https://www.webmd.com/covid/coronavirus', 'disease': 'Coronavirus', 'rating': 5}),\n",
       " Document(page_content=\"wasn't enough to measure. That can happen early in an infection. It usually takes 24 hours to get results, but the tests must be collected, stored, shipped to a lab, and processed.The FDA has granted\", metadata={'source': 'webmd', 'url': 'https://www.webmd.com/covid/coronavirus', 'disease': 'Coronavirus', 'rating': 5}),\n",
       " Document(page_content='granted authorizations for several at-home nasal swab tests, which you collect yourself and express ship back to the lab for analysis as well as at-home rapid tests. You can buy these over the', metadata={'source': 'webmd', 'url': 'https://www.webmd.com/covid/coronavirus', 'disease': 'Coronavirus', 'rating': 5}),\n",
       " Document(page_content='over the counter in pharmacies, at retail stores, or online.Â\\xa0At-home tests are also available for free at some local health departments or federally qualified health centers.A swab test can only', metadata={'source': 'webmd', 'url': 'https://www.webmd.com/covid/coronavirus', 'disease': 'Coronavirus', 'rating': 5}),\n",
       " Document(page_content=\"can only tell whether you have the virus in your body at that moment. But you may also consider taking an antibody testÂ\\xa0which can show whether you've ever been exposed to the virus, even if you\", metadata={'source': 'webmd', 'url': 'https://www.webmd.com/covid/coronavirus', 'disease': 'Coronavirus', 'rating': 5}),\n",
       " Document(page_content=\"if you didn't have symptoms. This is important in officials' efforts to learn how widespread COVID-19 is. In time, it might also help them figure out who's immune to the virus.The FDA is working with\", metadata={'source': 'webmd', 'url': 'https://www.webmd.com/covid/coronavirus', 'disease': 'Coronavirus', 'rating': 5}),\n",
       " Document(page_content='with laboratories across the country to develop more tests.Coronavirus PreventionGetting vaccinated against COVID-19 is a key part of prevention. But you should also take these steps:Cover your nose', metadata={'source': 'webmd', 'url': 'https://www.webmd.com/covid/coronavirus', 'disease': 'Coronavirus', 'rating': 5}),\n",
       " Document(page_content=\"your nose and mouth in public. If you have COVID-19, you can spread it even if you don't feel sick. Wear a mask to protect others. This isn't a replacement for social distancing. You still need to\", metadata={'source': 'webmd', 'url': 'https://www.webmd.com/covid/coronavirus', 'disease': 'Coronavirus', 'rating': 5}),\n",
       " Document(page_content=\"need to keep a 6-foot distance between yourself and those around you. Don't put a face covering on anyone who is:Under 2 years oldHaving trouble breathingUnconscious or can't remove the mask on their\", metadata={'source': 'webmd', 'url': 'https://www.webmd.com/covid/coronavirus', 'disease': 'Coronavirus', 'rating': 5}),\n",
       " Document(page_content=\"on their own for other reasonsWash your hands often with soap and water or clean them with an alcohol-based sanitizer. This kills viruses on your hands.Don't touch your face. Coronaviruses can live\", metadata={'source': 'webmd', 'url': 'https://www.webmd.com/covid/coronavirus', 'disease': 'Coronavirus', 'rating': 5}),\n",
       " Document(page_content='can live on surfaces you touch for several hours. If they get on your hands and you touch your eyes, nose, or mouth, they can get into your body.Practice social distancing. Because you can have and', metadata={'source': 'webmd', 'url': 'https://www.webmd.com/covid/coronavirus', 'disease': 'Coronavirus', 'rating': 5}),\n",
       " Document(page_content='have and spread the virus without knowing it, you should stay home as much as possible. If you do have to go out, stay at least 6 feet away from others.Clean and disinfect. You can clean first with', metadata={'source': 'webmd', 'url': 'https://www.webmd.com/covid/coronavirus', 'disease': 'Coronavirus', 'rating': 5}),\n",
       " Document(page_content='with soap and water, but disinfect surfaces you touch often, like tables, doorknobs, light switches, toilets, faucets, and sinks. Use a mix of household bleach and water (1/3 cup bleach per gallon of', metadata={'source': 'webmd', 'url': 'https://www.webmd.com/covid/coronavirus', 'disease': 'Coronavirus', 'rating': 5}),\n",
       " Document(page_content=\"gallon of water, or 4 teaspoons bleach per quart of water) or a household cleaner that's approved to treat SARS-CoV-2. You can check the Environmental Protection Agency (EPA) website to see if yours\", metadata={'source': 'webmd', 'url': 'https://www.webmd.com/covid/coronavirus', 'disease': 'Coronavirus', 'rating': 5}),\n",
       " Document(page_content=\"if yours made the list. Wear gloves when you clean and throw them away when you're done. There's no proof that herbal therapies and teas can prevent infection.COVID-19 preparation tipsIn addition to\", metadata={'source': 'webmd', 'url': 'https://www.webmd.com/covid/coronavirus', 'disease': 'Coronavirus', 'rating': 5}),\n",
       " Document(page_content='to practicing the prevention tips listed above, you can:Meet as a household or larger family to talk about who needs what.If you have people at a higher risk, ask their doctor what to do.Talk to your', metadata={'source': 'webmd', 'url': 'https://www.webmd.com/covid/coronavirus', 'disease': 'Coronavirus', 'rating': 5}),\n",
       " Document(page_content='to your neighbors about emergency planning. Join your neighborhood chat group or website to stay in touch.Find community aid organizations that can help with health care, food delivery, and other', metadata={'source': 'webmd', 'url': 'https://www.webmd.com/covid/coronavirus', 'disease': 'Coronavirus', 'rating': 5}),\n",
       " Document(page_content='and other supplies.Make an emergency contact list. Include family, friends, neighbors, carpool drivers, doctors, teachers, employers, and the local health department.Choose a room (or rooms) where', metadata={'source': 'webmd', 'url': 'https://www.webmd.com/covid/coronavirus', 'disease': 'Coronavirus', 'rating': 5}),\n",
       " Document(page_content=\"where you can keep someone who's sick or who's been exposed separate from the rest of you.Talk to your child's school about keeping up with assignments.Set yourself up to work from home if your\", metadata={'source': 'webmd', 'url': 'https://www.webmd.com/covid/coronavirus', 'disease': 'Coronavirus', 'rating': 5}),\n",
       " Document(page_content='if your office is closed.Reach out to friends or family if you live alone. Make plans for them to check on you by phone, email, or video chat. Can aÂ\\xa0face maskÂ\\xa0protect you from infection?A mask is', metadata={'source': 'webmd', 'url': 'https://www.webmd.com/covid/coronavirus', 'disease': 'Coronavirus', 'rating': 5}),\n",
       " Document(page_content=\"mask is an added layer of protection for everyone, on top of vaccines and social distancing efforts. You can spread the virus when you talk or cough, even if you don't know that you have it or if you\", metadata={'source': 'webmd', 'url': 'https://www.webmd.com/covid/coronavirus', 'disease': 'Coronavirus', 'rating': 5}),\n",
       " Document(page_content=\"or if you aren't showing signs of infection.It's important to wear a high-quality mask in a variety of situations:Wear a mask indoors in public places if you're in an area where there's a high or\", metadata={'source': 'webmd', 'url': 'https://www.webmd.com/covid/coronavirus', 'disease': 'Coronavirus', 'rating': 5}),\n",
       " Document(page_content=\"a high or â\\x80\\x9csubstantialâ\\x80\\x9d amount of COVID spreading around. That goes for people 2 years old and up.Â\\xa0If you have a chronic health condition or you're taking meds that weaken your immune system,\", metadata={'source': 'webmd', 'url': 'https://www.webmd.com/covid/coronavirus', 'disease': 'Coronavirus', 'rating': 5}),\n",
       " Document(page_content=\"system, wear a mask in indoor public places even if you're fully vaccinated. Do this unless your doctor tells you otherwise. In general, you don't need to wear a mask outside, where it's harder for\", metadata={'source': 'webmd', 'url': 'https://www.webmd.com/covid/coronavirus', 'disease': 'Coronavirus', 'rating': 5}),\n",
       " Document(page_content='for the coronavirus to spread. But if COVID-19 cases are high in your area, consider wearing one in crowded outdoor places and for outdoor get-togethers that involve close contact with people who', metadata={'source': 'webmd', 'url': 'https://www.webmd.com/covid/coronavirus', 'disease': 'Coronavirus', 'rating': 5}),\n",
       " Document(page_content=\"who aren't fully vaccinated. Anyone should wear a face mask if they're sick and around other people or animals, even at home. Caregivers should use them when cleaning and disinfecting a sick person's\", metadata={'source': 'webmd', 'url': 'https://www.webmd.com/covid/coronavirus', 'disease': 'Coronavirus', 'rating': 5}),\n",
       " Document(page_content=\"person's bedroom or bathroom. If you need to call 911, put on a mask before medical help arrives.Some people shouldn't wear masks:Kids under 2 years oldSomeone with a disability who can't wear a mask\", metadata={'source': 'webmd', 'url': 'https://www.webmd.com/covid/coronavirus', 'disease': 'Coronavirus', 'rating': 5}),\n",
       " Document(page_content=\"a mask or can't safely wear one to the disabilityA person who has a job in which wearing a mask would create a risk to co-workers' health or safety as determined by the workplace risk assessmentWhat\", metadata={'source': 'webmd', 'url': 'https://www.webmd.com/covid/coronavirus', 'disease': 'Coronavirus', 'rating': 5}),\n",
       " Document(page_content='are the different types of face masks?You have several options:Cloth masks are washable and reusable. The best ones have multiple layers of breathable fabric and fit snugly over your nose and mouth.', metadata={'source': 'webmd', 'url': 'https://www.webmd.com/covid/coronavirus', 'disease': 'Coronavirus', 'rating': 5}),\n",
       " Document(page_content=\"mouth. It's a good idea to buy ones that come with a nose wire and are made with fabric that can block light.Disposable masks, also called surgical masks, are also widely available. Choose ones that\", metadata={'source': 'webmd', 'url': 'https://www.webmd.com/covid/coronavirus', 'disease': 'Coronavirus', 'rating': 5}),\n",
       " Document(page_content=\"ones that have several layers of non-woven material. Pick a size that fits properly over your nose and mouth and comes with a nose wire. Don't wear one that has gaps around the sides of your face or\", metadata={'source': 'webmd', 'url': 'https://www.webmd.com/covid/coronavirus', 'disease': 'Coronavirus', 'rating': 5}),\n",
       " Document(page_content=\"face or nose, or has wet or dirty material. N95 respirator masksÂ\\xa0fit tightly around your face and filter out 95% or more of the smallest particles in the air.Â\\xa0It's fine to buy a basic, disposable\", metadata={'source': 'webmd', 'url': 'https://www.webmd.com/covid/coronavirus', 'disease': 'Coronavirus', 'rating': 5}),\n",
       " Document(page_content=\"N95 respirator. Choose one that's high quality and says â\\x80\\x9cNIOSH Approvedâ\\x80\\x9d on the label.Is it safe to travel during a pandemic?Crowded places can raise your chances of getting COVID-19. Itâ\\x80\\x99s\", metadata={'source': 'webmd', 'url': 'https://www.webmd.com/covid/coronavirus', 'disease': 'Coronavirus', 'rating': 5}),\n",
       " Document(page_content='Itâ\\x80\\x99s important to check the status of COVID-19 transmissions in the area where you travel before you go and take the necessary precautions while there.A few questions may help you decide whether', metadata={'source': 'webmd', 'url': 'https://www.webmd.com/covid/coronavirus', 'disease': 'Coronavirus', 'rating': 5}),\n",
       " Document(page_content=\"whether it's safe to travel:Is the coronavirus spreading where you're going?Will you have close contact with other people during the trip?Are you at higher risk of severe illness if you catch the\", metadata={'source': 'webmd', 'url': 'https://www.webmd.com/covid/coronavirus', 'disease': 'Coronavirus', 'rating': 5}),\n",
       " Document(page_content=\"catch the virus?Do you live with someone who has a serious medical condition?Will the place where you'll be staying be cleaned?Will you have access to food and other necessities?If you choose to\", metadata={'source': 'webmd', 'url': 'https://www.webmd.com/covid/coronavirus', 'disease': 'Coronavirus', 'rating': 5}),\n",
       " Document(page_content='choose to travel, stay away from sick people. Wash your hands often, and try not to touch your face. Wear a high-quality cloth face mask when you are around other people.Â\\xa0 How can you help stop the', metadata={'source': 'webmd', 'url': 'https://www.webmd.com/covid/coronavirus', 'disease': 'Coronavirus', 'rating': 5}),\n",
       " Document(page_content=\"stop the spread of the coronavirus?Because the virus spreads from person to person, it's important to limit your contact with other people as much as possible.Â\\xa0and avoid large gatherings. Most\", metadata={'source': 'webmd', 'url': 'https://www.webmd.com/covid/coronavirus', 'disease': 'Coronavirus', 'rating': 5}),\n",
       " Document(page_content=\"Most states and cities have lifted restrictions but this doesn't mean the virus is gone. Continue to follow safety practices such as wearing a high-quality cloth face mask in public places and\", metadata={'source': 'webmd', 'url': 'https://www.webmd.com/covid/coronavirus', 'disease': 'Coronavirus', 'rating': 5}),\n",
       " Document(page_content='and washing your hands.The following terms have now become commonplace:Social distancing or physical distancing, keeping space between yourself and other people when you have to go outQuarantine,', metadata={'source': 'webmd', 'url': 'https://www.webmd.com/covid/coronavirus', 'disease': 'Coronavirus', 'rating': 5}),\n",
       " Document(page_content='keeping someone home and separated from other people if they might have been exposed to the virusIsolation, keeping sick people away from healthy people, including using a separate â\\x80\\x9csickâ\\x80\\x9d bedroom', metadata={'source': 'webmd', 'url': 'https://www.webmd.com/covid/coronavirus', 'disease': 'Coronavirus', 'rating': 5}),\n",
       " Document(page_content='bedroom and bathroom when possiblePrecautions should still be followed even if you are vaccinated.Coronavirus VaccineThe CDC recommends that everyone 6 months and older be vaccinated. There are', metadata={'source': 'webmd', 'url': 'https://www.webmd.com/covid/coronavirus', 'disease': 'Coronavirus', 'rating': 5}),\n",
       " Document(page_content='There are fourÂ\\xa0vaccines,Â\\xa0which have been granted FDA approval; Pfizer BioNTech, Moderna, Novavax, and Johnson & Johnson.Â\\xa0 Pfizer and Moderna have developed bivalent boosters, which are so named', metadata={'source': 'webmd', 'url': 'https://www.webmd.com/covid/coronavirus', 'disease': 'Coronavirus', 'rating': 5}),\n",
       " Document(page_content='so named because they protect against both the original virus that causes COVID-19 and the Omicron variant BA.4 and BA.5Top health experts have a preference for the type of vaccine that you choose.', metadata={'source': 'webmd', 'url': 'https://www.webmd.com/covid/coronavirus', 'disease': 'Coronavirus', 'rating': 5}),\n",
       " Document(page_content='choose. They recommend that you choose a vaccine made with mRNA (like the ones from Pfizer and Moderna) or DNA like Noravax rather than the J&J vaccine, which is made differently. The recommendation', metadata={'source': 'webmd', 'url': 'https://www.webmd.com/covid/coronavirus', 'disease': 'Coronavirus', 'rating': 5}),\n",
       " Document(page_content='is endorsed by the CDC and comes from the Advisory Committee on Immunization Practices, which reviewed the latest evidence on the effectiveness, safety, and rare side effects of the available', metadata={'source': 'webmd', 'url': 'https://www.webmd.com/covid/coronavirus', 'disease': 'Coronavirus', 'rating': 5}),\n",
       " Document(page_content='available vaccines.That said, receiving any COVID-19 vaccine is better than being unvaccinated, experts say.Booster shots of the Pfizer and Moderna vaccines are recommended for everyone 5 years and', metadata={'source': 'webmd', 'url': 'https://www.webmd.com/covid/coronavirus', 'disease': 'Coronavirus', 'rating': 5}),\n",
       " Document(page_content=\"years and older at least 2 months after you've gotten your first two doses.Â\\xa0When it comes to boosters, you don't have to stick with same the vaccine you initially got. For example, if your initial\", metadata={'source': 'webmd', 'url': 'https://www.webmd.com/covid/coronavirus', 'disease': 'Coronavirus', 'rating': 5}),\n",
       " Document(page_content='initial doses came from Moderna, you can get a booster dose from Pfizer.COVID-19 vaccines were developed at an unprecedented speed,Â\\xa0with testing in humans starting in March 2020. The FDA says that', metadata={'source': 'webmd', 'url': 'https://www.webmd.com/covid/coronavirus', 'disease': 'Coronavirus', 'rating': 5}),\n",
       " Document(page_content=\"says that no corners were cut to allow for approval and that the inoculationsÂ\\xa0are safe. The CDC has said it is safe forÂ\\xa0pregnantÂ\\xa0women and there's no evidence that antibodies formed from COVID-19\", metadata={'source': 'webmd', 'url': 'https://www.webmd.com/covid/coronavirus', 'disease': 'Coronavirus', 'rating': 5}),\n",
       " Document(page_content=\"COVID-19 vaccination cause any problems with pregnancy.Coronavirus TreatmentThere's no specific treatment for COVID-19. People who get a mild case need care to ease their symptoms, like rest, fluids,\", metadata={'source': 'webmd', 'url': 'https://www.webmd.com/covid/coronavirus', 'disease': 'Coronavirus', 'rating': 5}),\n",
       " Document(page_content=\"fluids, and fever control. Take over-the-counter medicine for a sore throat, body aches, and fever. But don't give aspirin to children or teens younger than 19.You might have heard that you shouldn't\", metadata={'source': 'webmd', 'url': 'https://www.webmd.com/covid/coronavirus', 'disease': 'Coronavirus', 'rating': 5}),\n",
       " Document(page_content=\"shouldn't take ibuprofen to treat COVID-19 symptoms. But the National Institutes of Health says people who have the virus can use nonsteroidal anti-inflammatory drugs (NSAIDs) or acetaminophen as\", metadata={'source': 'webmd', 'url': 'https://www.webmd.com/covid/coronavirus', 'disease': 'Coronavirus', 'rating': 5}),\n",
       " Document(page_content=\"as usual.Antibiotics won't help because they treat bacteria, not viruses. In January 2022, the FDA limited the use of two monoclonal treatments that previously were used to treat COVID-19 infections\", metadata={'source': 'webmd', 'url': 'https://www.webmd.com/covid/coronavirus', 'disease': 'Coronavirus', 'rating': 5}),\n",
       " Document(page_content='after it was found that they were not effective against the Omicron variant. These two monoclonal antibody treatments are bamlanivimab and etesevimab (administered together) and REGEN-COV', metadata={'source': 'webmd', 'url': 'https://www.webmd.com/covid/coronavirus', 'disease': 'Coronavirus', 'rating': 5}),\n",
       " Document(page_content='REGEN-COV (casirivimab and imdevimab).Sotrovimab is the only available monoclonal treatment with activity against the Omicron variant.Â\\xa0Many clinical trials are underway to explore treatments used', metadata={'source': 'webmd', 'url': 'https://www.webmd.com/covid/coronavirus', 'disease': 'Coronavirus', 'rating': 5}),\n",
       " Document(page_content='used for other conditions that could fight COVID-19 and to develop new ones. A variety of steroid medications are being used including dexamethasone which is used to treat conditions such as', metadata={'source': 'webmd', 'url': 'https://www.webmd.com/covid/coronavirus', 'disease': 'Coronavirus', 'rating': 5}),\n",
       " Document(page_content=\"such as arthritis, blood/hormone/immune system disorders, and allergic reactions. More studies on effectiveness are still being conducted.Is there a cure for the coronavirus?There's no cure yet, but\", metadata={'source': 'webmd', 'url': 'https://www.webmd.com/covid/coronavirus', 'disease': 'Coronavirus', 'rating': 5}),\n",
       " Document(page_content='yet, but researchers are working hard to find one.COVID-19 OutlookEvery case is different. You may have mild flu-like symptoms for a few days after exposure, then get better. But some cases can be', metadata={'source': 'webmd', 'url': 'https://www.webmd.com/covid/coronavirus', 'disease': 'Coronavirus', 'rating': 5}),\n",
       " Document(page_content=\"can be severe or fatal.Symptoms can also linger for weeks, even if they're mild.More than a third of people older than 18 who have signs of the virus aren't totally recovered 2 or 3 weeks later,\", metadata={'source': 'webmd', 'url': 'https://www.webmd.com/covid/coronavirus', 'disease': 'Coronavirus', 'rating': 5}),\n",
       " Document(page_content=\"later, according to a CDC survey. Fatigue and cough were the symptoms that were most likely to linger.Some other people who've had COVID-19 develop a condition similar to myalgic encephalomyelitis,\", metadata={'source': 'webmd', 'url': 'https://www.webmd.com/covid/coronavirus', 'disease': 'Coronavirus', 'rating': 5}),\n",
       " Document(page_content='also known as chronic fatigue syndrome. They may have brain fog, severe fatigue, pain, trouble thinking, or dizziness.What is the recovery rate for coronavirus? Scientists and researchers are', metadata={'source': 'webmd', 'url': 'https://www.webmd.com/covid/coronavirus', 'disease': 'Coronavirus', 'rating': 5}),\n",
       " Document(page_content=\"are constantly tracking COVID-19 infections and recoveries. But they don't have information about the outcome of every infection. Early estimates predict that the overall COVID-19 recovery rate will\", metadata={'source': 'webmd', 'url': 'https://www.webmd.com/covid/coronavirus', 'disease': 'Coronavirus', 'rating': 5}),\n",
       " Document(page_content='rate will be between 97% and 99.75%.Can you get the coronavirus multiple times?Yes. This is another reason to stay vigilant against becoming infected and transmitting the virus.Â\\xa0As with other', metadata={'source': 'webmd', 'url': 'https://www.webmd.com/covid/coronavirus', 'disease': 'Coronavirus', 'rating': 5}),\n",
       " Document(page_content=\"other coronaviruses that only causeÂ\\xa0colds, you have a period that you're immune, but that goes away over time.Â\\xa0That also appears to be the case with this coronavirus. Immunity is estimated to last\", metadata={'source': 'webmd', 'url': 'https://www.webmd.com/covid/coronavirus', 'disease': 'Coronavirus', 'rating': 5}),\n",
       " Document(page_content='to last up to three months.Having COVID-19 usually results in antibodies which should help protect you from re-infection. But the virus continues to mutate and these changes can lead to new variants', metadata={'source': 'webmd', 'url': 'https://www.webmd.com/covid/coronavirus', 'disease': 'Coronavirus', 'rating': 5}),\n",
       " Document(page_content='variants which allow the risk for re-infection.The CDC is investigating how often reinfections occur, who is at higher risk of reinfection, how soon reinfections take place after a previous', metadata={'source': 'webmd', 'url': 'https://www.webmd.com/covid/coronavirus', 'disease': 'Coronavirus', 'rating': 5}),\n",
       " Document(page_content='previous infection, and the severity of reinfections compared with initial infections.Â\\xa0Past CoronavirusesAre coronaviruses new?Coronaviruses were first identified in the 1960s. Almost everyone gets', metadata={'source': 'webmd', 'url': 'https://www.webmd.com/covid/coronavirus', 'disease': 'Coronavirus', 'rating': 5}),\n",
       " Document(page_content='gets a coronavirus infection at least once in their life, most likely as a young child. In the United States, regular coronaviruses are more common in the fall and winter, but anyone can come down', metadata={'source': 'webmd', 'url': 'https://www.webmd.com/covid/coronavirus', 'disease': 'Coronavirus', 'rating': 5}),\n",
       " Document(page_content='come down with a coronavirus infection at any time.The symptoms of most coronaviruses are similar to any other upper respiratory infection, including a runny nose, coughing, sore throat, and', metadata={'source': 'webmd', 'url': 'https://www.webmd.com/covid/coronavirus', 'disease': 'Coronavirus', 'rating': 5}),\n",
       " Document(page_content=\"and sometimes a fever. In most cases, you won't know whether you have a coronavirus or a different cold-causing virus, such as a rhinovirus. You treat this kind of coronavirus infection the same way\", metadata={'source': 'webmd', 'url': 'https://www.webmd.com/covid/coronavirus', 'disease': 'Coronavirus', 'rating': 5}),\n",
       " Document(page_content='same way you treat a cold.Have there been other serious coronavirus outbreaks?Coronaviruses have led to two serious outbreaks:Middle East respiratory syndrome (MERS). About 858 people have died from', metadata={'source': 'webmd', 'url': 'https://www.webmd.com/covid/coronavirus', 'disease': 'Coronavirus', 'rating': 5}),\n",
       " Document(page_content='died from MERS, which first appeared in Saudi Arabia and then in other countries in the Middle East, Africa, Asia, and Europe. In April 2014, the first American was hospitalized for MERS in Indiana,', metadata={'source': 'webmd', 'url': 'https://www.webmd.com/covid/coronavirus', 'disease': 'Coronavirus', 'rating': 5}),\n",
       " Document(page_content='Indiana, and another case was reported in Florida. Both had just returned from Saudi Arabia. In May 2015, there was an outbreak of MERS in South Korea, which was the largest outbreak outside of the', metadata={'source': 'webmd', 'url': 'https://www.webmd.com/covid/coronavirus', 'disease': 'Coronavirus', 'rating': 5}),\n",
       " Document(page_content='of the Arabian Peninsula.Severe acute respiratory syndromeÂ\\xa0(SARS).Â\\xa0In 2003, 774 people died from an outbreak. As of 2015, there were no further reports of cases of SARS.', metadata={'source': 'webmd', 'url': 'https://www.webmd.com/covid/coronavirus', 'disease': 'Coronavirus', 'rating': 5})]"
      ]
     },
     "execution_count": 13,
     "metadata": {},
     "output_type": "execute_result"
    }
   ],
   "source": [
    "test_text = text_splitter.split_documents([test_document])\n",
    "\n",
    "# Check chunk\n",
    "test_text"
   ]
  },
  {
   "cell_type": "code",
   "execution_count": 14,
   "metadata": {},
   "outputs": [
    {
     "data": {
      "text/plain": [
       "633"
      ]
     },
     "execution_count": 14,
     "metadata": {},
     "output_type": "execute_result"
    }
   ],
   "source": [
    "texts = text_splitter.split_documents(docs)\n",
    "\n",
    "len(texts)"
   ]
  },
  {
   "cell_type": "markdown",
   "metadata": {},
   "source": [
    "#### Create vector database on ChromaDB"
   ]
  },
  {
   "cell_type": "code",
   "execution_count": 15,
   "metadata": {},
   "outputs": [],
   "source": [
    "# Define ids\n",
    "ids = [str(i) for i in range(1, len(texts)+1)]"
   ]
  },
  {
   "cell_type": "code",
   "execution_count": 16,
   "metadata": {},
   "outputs": [
    {
     "name": "stdout",
     "output_type": "stream",
     "text": [
      "['1', '2', '3', '4', '5', '6', '7', '8', '9', '10', '11', '12', '13', '14', '15', '16', '17', '18', '19', '20', '21', '22', '23', '24', '25', '26', '27', '28', '29', '30', '31', '32', '33', '34', '35', '36', '37', '38', '39', '40', '41', '42', '43', '44', '45', '46', '47', '48', '49', '50', '51', '52', '53', '54', '55', '56', '57', '58', '59', '60', '61', '62', '63', '64', '65', '66', '67', '68', '69', '70', '71', '72', '73', '74', '75', '76', '77', '78', '79', '80', '81', '82', '83', '84', '85', '86', '87', '88', '89', '90', '91', '92', '93', '94', '95', '96', '97', '98', '99', '100', '101', '102', '103', '104', '105', '106', '107', '108', '109', '110', '111', '112', '113', '114', '115', '116', '117', '118', '119', '120', '121', '122', '123', '124', '125', '126', '127', '128', '129', '130', '131', '132', '133', '134', '135', '136', '137', '138', '139', '140', '141', '142', '143', '144', '145', '146', '147', '148', '149', '150', '151', '152', '153', '154', '155', '156', '157', '158', '159', '160', '161', '162', '163', '164', '165', '166', '167', '168', '169', '170', '171', '172', '173', '174', '175', '176', '177', '178', '179', '180', '181', '182', '183', '184', '185', '186', '187', '188', '189', '190', '191', '192', '193', '194', '195', '196', '197', '198', '199', '200', '201', '202', '203', '204', '205', '206', '207', '208', '209', '210', '211', '212', '213', '214', '215', '216', '217', '218', '219', '220', '221', '222', '223', '224', '225', '226', '227', '228', '229', '230', '231', '232', '233', '234', '235', '236', '237', '238', '239', '240', '241', '242', '243', '244', '245', '246', '247', '248', '249', '250', '251', '252', '253', '254', '255', '256', '257', '258', '259', '260', '261', '262', '263', '264', '265', '266', '267', '268', '269', '270', '271', '272', '273', '274', '275', '276', '277', '278', '279', '280', '281', '282', '283', '284', '285', '286', '287', '288', '289', '290', '291', '292', '293', '294', '295', '296', '297', '298', '299', '300', '301', '302', '303', '304', '305', '306', '307', '308', '309', '310', '311', '312', '313', '314', '315', '316', '317', '318', '319', '320', '321', '322', '323', '324', '325', '326', '327', '328', '329', '330', '331', '332', '333', '334', '335', '336', '337', '338', '339', '340', '341', '342', '343', '344', '345', '346', '347', '348', '349', '350', '351', '352', '353', '354', '355', '356', '357', '358', '359', '360', '361', '362', '363', '364', '365', '366', '367', '368', '369', '370', '371', '372', '373', '374', '375', '376', '377', '378', '379', '380', '381', '382', '383', '384', '385', '386', '387', '388', '389', '390', '391', '392', '393', '394', '395', '396', '397', '398', '399', '400', '401', '402', '403', '404', '405', '406', '407', '408', '409', '410', '411', '412', '413', '414', '415', '416', '417', '418', '419', '420', '421', '422', '423', '424', '425', '426', '427', '428', '429', '430', '431', '432', '433', '434', '435', '436', '437', '438', '439', '440', '441', '442', '443', '444', '445', '446', '447', '448', '449', '450', '451', '452', '453', '454', '455', '456', '457', '458', '459', '460', '461', '462', '463', '464', '465', '466', '467', '468', '469', '470', '471', '472', '473', '474', '475', '476', '477', '478', '479', '480', '481', '482', '483', '484', '485', '486', '487', '488', '489', '490', '491', '492', '493', '494', '495', '496', '497', '498', '499', '500', '501', '502', '503', '504', '505', '506', '507', '508', '509', '510', '511', '512', '513', '514', '515', '516', '517', '518', '519', '520', '521', '522', '523', '524', '525', '526', '527', '528', '529', '530', '531', '532', '533', '534', '535', '536', '537', '538', '539', '540', '541', '542', '543', '544', '545', '546', '547', '548', '549', '550', '551', '552', '553', '554', '555', '556', '557', '558', '559', '560', '561', '562', '563', '564', '565', '566', '567', '568', '569', '570', '571', '572', '573', '574', '575', '576', '577', '578', '579', '580', '581', '582', '583', '584', '585', '586', '587', '588', '589', '590', '591', '592', '593', '594', '595', '596', '597', '598', '599', '600', '601', '602', '603', '604', '605', '606', '607', '608', '609', '610', '611', '612', '613', '614', '615', '616', '617', '618', '619', '620', '621', '622', '623', '624', '625', '626', '627', '628', '629', '630', '631', '632', '633']\n"
     ]
    }
   ],
   "source": [
    "print(ids)"
   ]
  },
  {
   "cell_type": "code",
   "execution_count": 17,
   "metadata": {},
   "outputs": [],
   "source": [
    "# Add to chroma\n",
    "from langchain.vectorstores import Chroma\n",
    "\n",
    "vectorDb = Chroma.from_documents(documents=texts, embedding=embeddings,\n",
    "                                 ids =ids,\n",
    "                                 persist_directory=\"./medical_chroma_db\",\n",
    "                                 collection_name=\"MedicalInformation\")"
   ]
  },
  {
   "cell_type": "code",
   "execution_count": 18,
   "metadata": {},
   "outputs": [],
   "source": [
    "# Save the vector database\n",
    "vectorDb.persist()\n",
    "vectorDb = None"
   ]
  },
  {
   "cell_type": "code",
   "execution_count": 19,
   "metadata": {},
   "outputs": [],
   "source": [
    "# Save the vector database to a particular directory\n",
    "vectorDb = Chroma(persist_directory='./medical_chroma_db',\n",
    "                  embedding_function=embeddings,\n",
    "                  collection_name=\"MedicalInformation\")"
   ]
  },
  {
   "cell_type": "code",
   "execution_count": 20,
   "metadata": {},
   "outputs": [
    {
     "data": {
      "text/plain": [
       "{'ids': ['151'],\n",
       " 'embeddings': None,\n",
       " 'metadatas': [{'disease': 'Coronavirus',\n",
       "   'rating': 5,\n",
       "   'source': 'webmd',\n",
       "   'url': 'https://www.webmd.com/covid/coronavirus'}],\n",
       " 'documents': ['died from MERS, which first appeared in Saudi Arabia and then in other countries in the Middle East, Africa, Asia, and Europe. In April 2014, the first American was hospitalized for MERS in Indiana,']}"
      ]
     },
     "execution_count": 20,
     "metadata": {},
     "output_type": "execute_result"
    }
   ],
   "source": [
    "# Test to fetch a particular datapoint\n",
    "document = vectorDb.get(ids=['151'])\n",
    "\n",
    "document"
   ]
  },
  {
   "cell_type": "code",
   "execution_count": 21,
   "metadata": {},
   "outputs": [
    {
     "data": {
      "text/plain": [
       "Document(page_content='died from MERS, which first appeared in Saudi Arabia and then in other countries in the Middle East, Africa, Asia, and Europe. In April 2014, the first American was hospitalized for MERS in Indiana,', metadata={'source': 'webmd', 'url': 'https://www.webmd.com/covid/coronavirus', 'disease': 'Coronavirus', 'rating': 5})"
      ]
     },
     "execution_count": 21,
     "metadata": {},
     "output_type": "execute_result"
    }
   ],
   "source": [
    "# Create a doc using schema to update a datapoint in the vector database\n",
    "\n",
    "doc = Document(\n",
    "    ids=document['ids'][0],\n",
    "    page_content=document['documents'][0],\n",
    "    metadata={\n",
    "        'source':document['metadatas'][0]['source'],\n",
    "        'url':document['metadatas'][0]['url'],\n",
    "        'disease':document['metadatas'][0]['disease'],\n",
    "        'rating':document['metadatas'][0]['rating'],\n",
    "    }\n",
    ")\n",
    "\n",
    "# Check the doc created\n",
    "doc"
   ]
  },
  {
   "cell_type": "code",
   "execution_count": 22,
   "metadata": {},
   "outputs": [],
   "source": [
    "# Upadate vector database with the new doc created\n",
    "vectorDb.update_document('151', doc)"
   ]
  },
  {
   "cell_type": "code",
   "execution_count": 23,
   "metadata": {},
   "outputs": [
    {
     "data": {
      "text/plain": [
       "{'ids': ['151'],\n",
       " 'embeddings': None,\n",
       " 'metadatas': [{'disease': 'Coronavirus',\n",
       "   'rating': 5,\n",
       "   'source': 'webmd',\n",
       "   'url': 'https://www.webmd.com/covid/coronavirus'}],\n",
       " 'documents': ['died from MERS, which first appeared in Saudi Arabia and then in other countries in the Middle East, Africa, Asia, and Europe. In April 2014, the first American was hospitalized for MERS in Indiana,']}"
      ]
     },
     "execution_count": 23,
     "metadata": {},
     "output_type": "execute_result"
    }
   ],
   "source": [
    "# Fetch updated doc\n",
    "vectorDb.get(ids=['151'])"
   ]
  },
  {
   "cell_type": "markdown",
   "metadata": {},
   "source": [
    "#### Check if information retrieval is working fine using OpenAI"
   ]
  },
  {
   "cell_type": "code",
   "execution_count": 24,
   "metadata": {},
   "outputs": [],
   "source": [
    "# Set up OpenAI\n",
    "from langchain.llms import OpenAI\n",
    "from dotenv import load_dotenv, find_dotenv\n",
    "_ = load_dotenv(find_dotenv()) # read local .env file\n",
    "\n",
    "llm = OpenAI()"
   ]
  },
  {
   "cell_type": "code",
   "execution_count": 25,
   "metadata": {},
   "outputs": [],
   "source": [
    "# Set retriever\n",
    "retriever = vectorDb.as_retriever()"
   ]
  },
  {
   "cell_type": "code",
   "execution_count": 26,
   "metadata": {},
   "outputs": [
    {
     "data": {
      "text/plain": [
       "[{'source': 'CDC'}, {'source': 'webmd'}, {'source': 'National Health Service'}]"
      ]
     },
     "execution_count": 26,
     "metadata": {},
     "output_type": "execute_result"
    }
   ],
   "source": [
    "# Define sources to search in\n",
    "sources =['CDC','webmd', 'National Health Service']\n",
    "\n",
    "# Initialise filters list\n",
    "or_filters = []\n",
    "\n",
    "# Create temporary dictionary of sources\n",
    "for source in sources:\n",
    "    temp_dict = {\n",
    "        'source':source\n",
    "    }\n",
    "    or_filters.append(temp_dict)\n",
    "\n",
    "or_filters"
   ]
  },
  {
   "cell_type": "code",
   "execution_count": 27,
   "metadata": {},
   "outputs": [],
   "source": [
    "# Define search kwargs (for metadata filtering)\n",
    "search_kwargs = {\n",
    "    'k':len(sources),\n",
    "    'filter':{\n",
    "        \"$or\": or_filters\n",
    "    }\n",
    "}"
   ]
  },
  {
   "cell_type": "code",
   "execution_count": 28,
   "metadata": {},
   "outputs": [],
   "source": [
    "# Set up retrieval chain\n",
    "from langchain.chains import RetrievalQA\n",
    "\n",
    "retrievalqaChain =RetrievalQA.from_chain_type(llm = llm, chain_type=\"stuff\",\n",
    "                  retriever=vectorDb.as_retriever(search_kwargs=search_kwargs))"
   ]
  },
  {
   "cell_type": "code",
   "execution_count": 29,
   "metadata": {},
   "outputs": [
    {
     "data": {
      "text/plain": [
       "{'query': 'I have symptoms like coronavirus, what should I do?',\n",
       " 'result': \" If you are experiencing any of the symptoms of coronavirus (runny nose, coughing, sore throat, etc.), consider getting tested for COVID-19. If you have already tested positive for COVID-19, learn more about CDC's isolation recommendations.\"}"
      ]
     },
     "execution_count": 29,
     "metadata": {},
     "output_type": "execute_result"
    }
   ],
   "source": [
    "# Fetch information\n",
    "retrievalqaChain({\"query\":\"I have symptoms like coronavirus, what should I do?\"})"
   ]
  },
  {
   "cell_type": "code",
   "execution_count": 30,
   "metadata": {},
   "outputs": [],
   "source": [
    "from langchain.chains import ConversationalRetrievalChain"
   ]
  },
  {
   "cell_type": "code",
   "execution_count": 31,
   "metadata": {},
   "outputs": [],
   "source": [
    "qa = ConversationalRetrievalChain.from_llm(llm =llm, retriever=vectorDb.as_retriever(), return_source_documents=True)"
   ]
  },
  {
   "cell_type": "code",
   "execution_count": 32,
   "metadata": {},
   "outputs": [],
   "source": [
    "chat_history=[]\n",
    "query=\"I have symptoms like coronavirus, what should I do?\"\n",
    "result = qa({\"question\": query, \"chat_history\": chat_history})"
   ]
  },
  {
   "cell_type": "code",
   "execution_count": 33,
   "metadata": {},
   "outputs": [
    {
     "data": {
      "text/plain": [
       "' If you are experiencing any of the symptoms associated with coronavirus, consider getting tested for COVID-19. Depending on the results of the tests and how sick you are, your doctor may recommend medications to treat the virus, reduce an overactive immune response, or treat COVID-19 complications.'"
      ]
     },
     "execution_count": 33,
     "metadata": {},
     "output_type": "execute_result"
    }
   ],
   "source": [
    "result['answer']"
   ]
  },
  {
   "cell_type": "code",
   "execution_count": 34,
   "metadata": {},
   "outputs": [
    {
     "data": {
      "text/plain": [
       "[Document(page_content='COVID-19 SYMPTOM CHECKER\\n\\t\\t\\t\\t\\t\\t\\t\\t\\t\\t\\t\\n\\n\\n\\nFind Out if You Have Symptoms of Coronavirus (COVID-19)See what to do about your symptoms and whether to call a doctor', metadata={'disease': 'Coronavirus', 'rating': 5, 'source': 'webmd', 'url': 'https://www.webmd.com/covid/coronavirus'}),\n",
       " Document(page_content='come down with a coronavirus infection at any time.The symptoms of most coronaviruses are similar to any other upper respiratory infection, including a runny nose, coughing, sore throat, and', metadata={'disease': 'Coronavirus', 'rating': 5, 'source': 'webmd', 'url': 'https://www.webmd.com/covid/coronavirus'}),\n",
       " Document(page_content='Feeling Sick? If you are experiencing any of these symptoms, consider the following options: Get tested for COVID-19 If you have already tested positive for COVID-19, learn more about CDC’s isolation', metadata={'disease': 'Coronavirus', 'rating': 5, 'source': 'CDC', 'url': 'https://www.cdc.gov/coronavirus/2019-ncov/symptoms-testing/symptoms.html'}),\n",
       " Document(page_content='depending on how sick you are. These could include medications to treat the virus, reduce an overactive immune response, or treat COVID-19 complications.', metadata={'disease': 'Coronavirus', 'rating': 5, 'source': 'CDC', 'url': 'https://www.cdc.gov/coronavirus/2019-ncov/your-health/treatments-for-severe-illness.html'})]"
      ]
     },
     "execution_count": 34,
     "metadata": {},
     "output_type": "execute_result"
    }
   ],
   "source": [
    "result['source_documents']"
   ]
  }
 ],
 "metadata": {
  "kernelspec": {
   "display_name": "mb_env",
   "language": "python",
   "name": "python3"
  },
  "language_info": {
   "codemirror_mode": {
    "name": "ipython",
    "version": 3
   },
   "file_extension": ".py",
   "mimetype": "text/x-python",
   "name": "python",
   "nbconvert_exporter": "python",
   "pygments_lexer": "ipython3",
   "version": "3.11.4"
  },
  "orig_nbformat": 4
 },
 "nbformat": 4,
 "nbformat_minor": 2
}
