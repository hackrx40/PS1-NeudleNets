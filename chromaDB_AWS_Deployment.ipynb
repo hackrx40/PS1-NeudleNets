{
 "cells": [
  {
   "cell_type": "markdown",
   "metadata": {},
   "source": [
    "## ChromaDB Vector Database Deployment on AWS\n",
    "###### Create the vector database and deploy it on AWS"
   ]
  },
  {
   "cell_type": "code",
   "execution_count": 1,
   "metadata": {},
   "outputs": [
    {
     "name": "stderr",
     "output_type": "stream",
     "text": [
      "c:\\Users\\vkfak\\Documents\\Projects\\Bajaj_Hackrx\\Pika\\medibot_backend\\mb_env\\Lib\\site-packages\\tqdm\\auto.py:21: TqdmWarning: IProgress not found. Please update jupyter and ipywidgets. See https://ipywidgets.readthedocs.io/en/stable/user_install.html\n",
      "  from .autonotebook import tqdm as notebook_tqdm\n"
     ]
    }
   ],
   "source": [
    "from chromadb.utils import embedding_functions\n",
    "\n",
    "# Set embedding model\n",
    "chromadb_embeddings = embedding_functions.SentenceTransformerEmbeddingFunction(\n",
    "    model_name=\"all-MiniLM-L6-v2\"\n",
    ")"
   ]
  },
  {
   "cell_type": "code",
   "execution_count": 2,
   "metadata": {},
   "outputs": [],
   "source": [
    "# Set up LangChain's embedding model\n",
    "from langchain.embeddings import SentenceTransformerEmbeddings\n",
    "\n",
    "langchain_embeddings = SentenceTransformerEmbeddings(\n",
    "    model_name=\"all-MiniLM-L6-v2\"\n",
    ")"
   ]
  },
  {
   "cell_type": "code",
   "execution_count": 8,
   "metadata": {},
   "outputs": [],
   "source": [
    "# Set up instance on AWS for ChromaDB\n",
    "from chromadb.config import Settings\n",
    "import chromadb\n",
    "\n",
    "\n",
    "client = chromadb.HttpClient(host=\"15.206.208.236\", port=\"8000\")"
   ]
  },
  {
   "cell_type": "code",
   "execution_count": 13,
   "metadata": {},
   "outputs": [],
   "source": [
    "client_settings = Settings(\n",
    "        chroma_api_impl=\"rest\",\n",
    "        chroma_server_host=\"15.206.208.236\",\n",
    "        chroma_server_http_port=\"8000\",\n",
    "    )"
   ]
  },
  {
   "cell_type": "code",
   "execution_count": 10,
   "metadata": {},
   "outputs": [
    {
     "data": {
      "text/plain": [
       "1689941189253264346"
      ]
     },
     "execution_count": 10,
     "metadata": {},
     "output_type": "execute_result"
    }
   ],
   "source": [
    "# Check if working\n",
    "client.heartbeat()"
   ]
  },
  {
   "cell_type": "code",
   "execution_count": 11,
   "metadata": {},
   "outputs": [],
   "source": [
    "collection = client.create_collection(name=\"mediData\",\n",
    "                                      embedding_function=chromadb_embeddings)"
   ]
  },
  {
   "cell_type": "code",
   "execution_count": 12,
   "metadata": {},
   "outputs": [
    {
     "data": {
      "text/plain": [
       "0"
      ]
     },
     "execution_count": 12,
     "metadata": {},
     "output_type": "execute_result"
    }
   ],
   "source": [
    "collection.count()"
   ]
  },
  {
   "cell_type": "code",
   "execution_count": 14,
   "metadata": {},
   "outputs": [],
   "source": [
    "from langchain.vectorstores.chroma import Chroma\n",
    "vectordb = Chroma(client=client,client_settings=client_settings, collection_name=\"mediData\", embedding_function=langchain_embeddings)"
   ]
  },
  {
   "cell_type": "markdown",
   "metadata": {},
   "source": [
    "## Create a vectordb"
   ]
  },
  {
   "cell_type": "markdown",
   "metadata": {},
   "source": [
    "##### Load the dataframe"
   ]
  },
  {
   "cell_type": "code",
   "execution_count": 16,
   "metadata": {},
   "outputs": [],
   "source": [
    "import pandas as pd\n",
    "medical_data = pd.read_csv('data\\medicalInformation.csv')"
   ]
  },
  {
   "cell_type": "code",
   "execution_count": 17,
   "metadata": {},
   "outputs": [],
   "source": [
    "medical_data.drop(medical_data.columns[0], axis =1, inplace=True)"
   ]
  },
  {
   "cell_type": "code",
   "execution_count": 18,
   "metadata": {},
   "outputs": [],
   "source": [
    "#Serialise the dataframe\n",
    "medical_data.index+=1"
   ]
  },
  {
   "cell_type": "code",
   "execution_count": 19,
   "metadata": {},
   "outputs": [],
   "source": [
    "from langchain.schema import Document\n",
    "\n",
    "# Function to convert the rows into document\n",
    "def create_docs(documents, row):\n",
    "    document = Document(\n",
    "        page_content=row['text'],\n",
    "        metadata={\n",
    "            'source':row['source'],\n",
    "            'url':row['url'],\n",
    "            'disease':row['disease'],\n",
    "            'rating':5\n",
    "        }\n",
    "    )\n",
    "    documents.append(document)"
   ]
  },
  {
   "cell_type": "code",
   "execution_count": 20,
   "metadata": {},
   "outputs": [],
   "source": [
    "documents=[]\n",
    "for i in medical_data.index:\n",
    "    create_docs(documents, medical_data.loc[i])"
   ]
  },
  {
   "cell_type": "code",
   "execution_count": 22,
   "metadata": {},
   "outputs": [],
   "source": [
    "from langchain.text_splitter import RecursiveCharacterTextSplitter\n",
    "\n",
    "# Splitting text into chunks\n",
    "text_splitter = RecursiveCharacterTextSplitter(\n",
    "    chunk_size=1000,\n",
    "    chunk_overlap=20\n",
    ")"
   ]
  },
  {
   "cell_type": "code",
   "execution_count": 23,
   "metadata": {},
   "outputs": [],
   "source": [
    "docs = text_splitter.split_documents(documents)"
   ]
  },
  {
   "cell_type": "code",
   "execution_count": 24,
   "metadata": {},
   "outputs": [
    {
     "data": {
      "text/plain": [
       "142"
      ]
     },
     "execution_count": 24,
     "metadata": {},
     "output_type": "execute_result"
    }
   ],
   "source": [
    "len(docs)"
   ]
  },
  {
   "cell_type": "markdown",
   "metadata": {},
   "source": [
    "##### Add documents in Vector DB"
   ]
  },
  {
   "cell_type": "code",
   "execution_count": 25,
   "metadata": {},
   "outputs": [],
   "source": [
    "# To add data in vectordb\n",
    "def add_document_to_vectordb(collection, doc):    \n",
    "    collection.add(\n",
    "        ids=str(collection.count()+1),\n",
    "        documents=doc.page_content,\n",
    "        metadatas=doc.metadata\n",
    "    )"
   ]
  },
  {
   "cell_type": "code",
   "execution_count": 26,
   "metadata": {},
   "outputs": [
    {
     "data": {
      "text/plain": [
       "1689942030953362503"
      ]
     },
     "execution_count": 26,
     "metadata": {},
     "output_type": "execute_result"
    }
   ],
   "source": [
    "client.heartbeat()"
   ]
  },
  {
   "cell_type": "code",
   "execution_count": 30,
   "metadata": {},
   "outputs": [
    {
     "data": {
      "text/plain": [
       "0"
      ]
     },
     "execution_count": 30,
     "metadata": {},
     "output_type": "execute_result"
    }
   ],
   "source": [
    "collection.count()"
   ]
  },
  {
   "cell_type": "code",
   "execution_count": 32,
   "metadata": {},
   "outputs": [],
   "source": [
    "# Add to vector database\n",
    "for doc in docs:\n",
    "    add_document_to_vectordb(collection, doc)"
   ]
  },
  {
   "cell_type": "code",
   "execution_count": 33,
   "metadata": {},
   "outputs": [
    {
     "data": {
      "text/plain": [
       "142"
      ]
     },
     "execution_count": 33,
     "metadata": {},
     "output_type": "execute_result"
    }
   ],
   "source": [
    "collection.count()"
   ]
  },
  {
   "cell_type": "code",
   "execution_count": 34,
   "metadata": {},
   "outputs": [
    {
     "name": "stdout",
     "output_type": "stream",
     "text": [
      "environment='' chroma_db_impl=None chroma_api_impl='rest' chroma_telemetry_impl='chromadb.telemetry.posthog.Posthog' chroma_sysdb_impl='chromadb.db.impl.sqlite.SqliteDB' chroma_producer_impl='chromadb.db.impl.sqlite.SqliteDB' chroma_consumer_impl='chromadb.db.impl.sqlite.SqliteDB' chroma_segment_manager_impl='chromadb.segment.impl.manager.local.LocalSegmentManager' tenant_id='default' topic_namespace='default' is_persistent=False persist_directory='./chroma' chroma_server_host='15.206.208.236' chroma_server_headers=None chroma_server_http_port='8000' chroma_server_ssl_enabled=False chroma_server_grpc_port=None chroma_server_cors_allow_origins=[] anonymized_telemetry=True allow_reset=False migrations='apply'\n"
     ]
    }
   ],
   "source": [
    "print(vectordb._client_settings)"
   ]
  },
  {
   "cell_type": "code",
   "execution_count": 35,
   "metadata": {},
   "outputs": [],
   "source": [
    "docs = vectordb.similarity_search('I think I have Covid. What should I do?')"
   ]
  },
  {
   "cell_type": "code",
   "execution_count": 36,
   "metadata": {},
   "outputs": [
    {
     "data": {
      "text/plain": [
       "'Interpreting Your Results If Your COVID-19 Test Is Positive Any positive COVID-19 test means the virus was detected and you have or recently had an infection. Isolate and take precautions, including wearing a high-quality mask or respirator, to protect others around you from getting infected. Tell people you had recent contact with that they may have been exposed. Monitor your symptoms. If you have any emergency warning signs, seek emergency care immediately. Contact a healthcare provider, community health center, or pharmacy to learn about treatment options that may be available to you. Treatment must be started within the first few days to be effective. You are more likely to get very sick if you are an older adult or have an underlying medical condition. Treatment is available. Talk with your healthcare provider to determine what is the best option for you.'"
      ]
     },
     "execution_count": 36,
     "metadata": {},
     "output_type": "execute_result"
    }
   ],
   "source": [
    "(docs[0].page_content)"
   ]
  },
  {
   "cell_type": "markdown",
   "metadata": {},
   "source": [
    "#### Use OpenAI to Check"
   ]
  },
  {
   "cell_type": "code",
   "execution_count": 37,
   "metadata": {},
   "outputs": [],
   "source": [
    "# Set up OpenAI\n",
    "from langchain.llms import OpenAI\n",
    "from dotenv import load_dotenv, find_dotenv\n",
    "_ = load_dotenv(find_dotenv()) # read local .env file\n",
    "\n",
    "llm = OpenAI()"
   ]
  },
  {
   "cell_type": "code",
   "execution_count": 38,
   "metadata": {},
   "outputs": [],
   "source": [
    "retriever = vectordb.as_retriever()"
   ]
  },
  {
   "cell_type": "code",
   "execution_count": 39,
   "metadata": {},
   "outputs": [],
   "source": [
    "search_kwargs = {\n",
    "    'k':1,\n",
    "    'filter':{\n",
    "        \"$and\": [\n",
    "            {\n",
    "                \"source\": 'webmd'\n",
    "            },\n",
    "            {\n",
    "                \"rating\": {\n",
    "                    '$gt': 4\n",
    "                }\n",
    "            }\n",
    "        ]\n",
    "    }\n",
    "}"
   ]
  },
  {
   "cell_type": "code",
   "execution_count": 40,
   "metadata": {},
   "outputs": [],
   "source": [
    "from langchain.chains import ConversationalRetrievalChain\n",
    "\n",
    "qa = ConversationalRetrievalChain.from_llm(llm = llm, retriever = vectordb.as_retriever(search_kwargs=search_kwargs), return_source_documents = True)"
   ]
  },
  {
   "cell_type": "code",
   "execution_count": 41,
   "metadata": {},
   "outputs": [],
   "source": [
    "chat_history = []\n",
    "query = \"“I have severe headaches, cold and cough. What should I do?”\"\n",
    "result = qa({\"question\": query, \"chat_history\": chat_history})"
   ]
  },
  {
   "cell_type": "code",
   "execution_count": 42,
   "metadata": {},
   "outputs": [
    {
     "data": {
      "text/plain": [
       "' It is likely that you have a cold, and the best things to do are to rest at home, drink plenty of fluids, and avoid contact with other people. If you are at higher risk of complications, such as if you are very sick or have other medical conditions, it is recommended that you talk to your doctor about taking antiviral medications.'"
      ]
     },
     "execution_count": 42,
     "metadata": {},
     "output_type": "execute_result"
    }
   ],
   "source": [
    "result['answer']"
   ]
  },
  {
   "cell_type": "code",
   "execution_count": 43,
   "metadata": {},
   "outputs": [
    {
     "data": {
      "text/plain": [
       "[Document(page_content='more likely to have this with a cold than with the flu.Cough and chest discomfort. This is common with both but tends to be severe with the flu.Stuffy nose. This sometimes happens with the flu but is common with a cold.Sore throat. This can be common with the flu but is more likely with a cold.Headache. This is common when you have the flu but rare with a cold.How to Treat Flu SymptomsIn most cases, the best things to do when you have the flu are:Rest at home.Drink plenty of fluids.Avoid contact with other people.Your doctor might give you prescription medications called antiviral drugs if youâ\\x80\\x99re at higher risk of complications, such as if you:Are very sick or have other medical conditionsAre younger than 2 or older than 65Have a weak immune systemAre pregnantAre a Native American or an Alaska NativeThese medicines -- baloxavir marboxil (Xofluza), oseltamivir (Tamiflu), peramivir (Rapivab), and zanamivir (Relenza) -- work best when you take them 48 hours or less after your symptoms', metadata={'disease': 'Influenza', 'rating': 5, 'source': 'webmd', 'url': 'https://www.webmd.com/cold-and-flu/adult-flu-symptoms'})]"
      ]
     },
     "execution_count": 43,
     "metadata": {},
     "output_type": "execute_result"
    }
   ],
   "source": [
    "result['source_documents']"
   ]
  },
  {
   "cell_type": "code",
   "execution_count": 44,
   "metadata": {},
   "outputs": [],
   "source": [
    "target_document = result['source_documents'][0]"
   ]
  },
  {
   "cell_type": "code",
   "execution_count": 45,
   "metadata": {},
   "outputs": [
    {
     "data": {
      "text/plain": [
       "Document(page_content='more likely to have this with a cold than with the flu.Cough and chest discomfort. This is common with both but tends to be severe with the flu.Stuffy nose. This sometimes happens with the flu but is common with a cold.Sore throat. This can be common with the flu but is more likely with a cold.Headache. This is common when you have the flu but rare with a cold.How to Treat Flu SymptomsIn most cases, the best things to do when you have the flu are:Rest at home.Drink plenty of fluids.Avoid contact with other people.Your doctor might give you prescription medications called antiviral drugs if youâ\\x80\\x99re at higher risk of complications, such as if you:Are very sick or have other medical conditionsAre younger than 2 or older than 65Have a weak immune systemAre pregnantAre a Native American or an Alaska NativeThese medicines -- baloxavir marboxil (Xofluza), oseltamivir (Tamiflu), peramivir (Rapivab), and zanamivir (Relenza) -- work best when you take them 48 hours or less after your symptoms', metadata={'disease': 'Influenza', 'rating': 5, 'source': 'webmd', 'url': 'https://www.webmd.com/cold-and-flu/adult-flu-symptoms'})"
      ]
     },
     "execution_count": 45,
     "metadata": {},
     "output_type": "execute_result"
    }
   ],
   "source": [
    "target_document\n"
   ]
  },
  {
   "cell_type": "code",
   "execution_count": 46,
   "metadata": {},
   "outputs": [
    {
     "data": {
      "text/plain": [
       "'33'"
      ]
     },
     "execution_count": 46,
     "metadata": {},
     "output_type": "execute_result"
    }
   ],
   "source": [
    "collection.query(query_texts=target_document.page_content,\n",
    "                 n_results=1)['ids'][0][0]"
   ]
  }
 ],
 "metadata": {
  "kernelspec": {
   "display_name": "mb_env",
   "language": "python",
   "name": "python3"
  },
  "language_info": {
   "codemirror_mode": {
    "name": "ipython",
    "version": 3
   },
   "file_extension": ".py",
   "mimetype": "text/x-python",
   "name": "python",
   "nbconvert_exporter": "python",
   "pygments_lexer": "ipython3",
   "version": "3.11.4"
  },
  "orig_nbformat": 4
 },
 "nbformat": 4,
 "nbformat_minor": 2
}
