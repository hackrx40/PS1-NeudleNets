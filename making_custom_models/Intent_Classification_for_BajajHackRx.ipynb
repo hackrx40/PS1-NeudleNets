{
  "cells": [
    {
      "cell_type": "code",
      "execution_count": 1,
      "metadata": {
        "colab": {
          "base_uri": "https://localhost:8080/"
        },
        "id": "S-KE1dUamvtP",
        "outputId": "6fbff4e8-879c-47c2-8166-fcf4ad2c3da9"
      },
      "outputs": [],
      "source": [
        "# %pip install pandas\n",
        "# %pip install keras\n",
        "# %pip install numpy\n",
        "# %pip install nltk\n",
        "# %pip install tensorflow\n",
        "# %pip install scikit-learn"
      ]
    },
    {
      "cell_type": "code",
      "execution_count": 2,
      "metadata": {
        "colab": {
          "base_uri": "https://localhost:8080/"
        },
        "id": "El0rdkeD6XwJ",
        "outputId": "015b1364-7e79-433e-ffd1-076de4aaff92"
      },
      "outputs": [],
      "source": [
        "# %pip install joblib"
      ]
    },
    {
      "cell_type": "code",
      "execution_count": 9,
      "metadata": {
        "colab": {
          "base_uri": "https://localhost:8080/",
          "height": 206
        },
        "id": "TEwlmSBgnDwD",
        "outputId": "2d7ca6be-7492-4750-94aa-d5fe5302ec6a"
      },
      "outputs": [
        {
          "data": {
            "text/html": [
              "<div>\n",
              "<style scoped>\n",
              "    .dataframe tbody tr th:only-of-type {\n",
              "        vertical-align: middle;\n",
              "    }\n",
              "\n",
              "    .dataframe tbody tr th {\n",
              "        vertical-align: top;\n",
              "    }\n",
              "\n",
              "    .dataframe thead th {\n",
              "        text-align: right;\n",
              "    }\n",
              "</style>\n",
              "<table border=\"1\" class=\"dataframe\">\n",
              "  <thead>\n",
              "    <tr style=\"text-align: right;\">\n",
              "      <th></th>\n",
              "      <th>sno</th>\n",
              "      <th>user_query</th>\n",
              "      <th>intent</th>\n",
              "    </tr>\n",
              "  </thead>\n",
              "  <tbody>\n",
              "    <tr>\n",
              "      <th>0</th>\n",
              "      <td>1</td>\n",
              "      <td>What are the symptoms of the flu?</td>\n",
              "      <td>Symptom Inquiry</td>\n",
              "    </tr>\n",
              "    <tr>\n",
              "      <th>1</th>\n",
              "      <td>2</td>\n",
              "      <td>Can you suggest remedies for a sore throat?</td>\n",
              "      <td>Treatment Inquiry</td>\n",
              "    </tr>\n",
              "    <tr>\n",
              "      <th>2</th>\n",
              "      <td>3</td>\n",
              "      <td>What are the side effects of ibuprofen?</td>\n",
              "      <td>Medication Information</td>\n",
              "    </tr>\n",
              "    <tr>\n",
              "      <th>3</th>\n",
              "      <td>4</td>\n",
              "      <td>How can I relieve muscle pain after exercising?</td>\n",
              "      <td>Medical Advice</td>\n",
              "    </tr>\n",
              "    <tr>\n",
              "      <th>4</th>\n",
              "      <td>5</td>\n",
              "      <td>Tell me a joke!</td>\n",
              "      <td>Non-medical Queries</td>\n",
              "    </tr>\n",
              "  </tbody>\n",
              "</table>\n",
              "</div>"
            ],
            "text/plain": [
              "   sno                                       user_query  \\\n",
              "0    1                What are the symptoms of the flu?   \n",
              "1    2      Can you suggest remedies for a sore throat?   \n",
              "2    3          What are the side effects of ibuprofen?   \n",
              "3    4  How can I relieve muscle pain after exercising?   \n",
              "4    5                                  Tell me a joke!   \n",
              "\n",
              "                   intent  \n",
              "0         Symptom Inquiry  \n",
              "1       Treatment Inquiry  \n",
              "2  Medication Information  \n",
              "3          Medical Advice  \n",
              "4     Non-medical Queries  "
            ]
          },
          "execution_count": 9,
          "metadata": {},
          "output_type": "execute_result"
        }
      ],
      "source": [
        "import pandas as pd\n",
        "\n",
        "path2Data = \"..\\data\\intentClassification.csv\"\n",
        "df = pd.read_csv(path2Data)\n",
        "\n",
        "df.head()"
      ]
    },
    {
      "cell_type": "code",
      "execution_count": 10,
      "metadata": {
        "colab": {
          "base_uri": "https://localhost:8080/"
        },
        "id": "hdomqza2pTeQ",
        "outputId": "f3b9a45a-58be-4f51-b2e5-b253940e07cd"
      },
      "outputs": [
        {
          "name": "stdout",
          "output_type": "stream",
          "text": [
            "<class 'pandas.core.frame.DataFrame'>\n",
            "RangeIndex: 600 entries, 0 to 599\n",
            "Data columns (total 3 columns):\n",
            " #   Column      Non-Null Count  Dtype \n",
            "---  ------      --------------  ----- \n",
            " 0   sno         600 non-null    int64 \n",
            " 1   user_query  600 non-null    object\n",
            " 2   intent      600 non-null    object\n",
            "dtypes: int64(1), object(2)\n",
            "memory usage: 14.2+ KB\n"
          ]
        }
      ],
      "source": [
        "df.info()"
      ]
    },
    {
      "cell_type": "code",
      "execution_count": 11,
      "metadata": {
        "colab": {
          "base_uri": "https://localhost:8080/",
          "height": 300
        },
        "id": "D7rM2ffXpb-S",
        "outputId": "e60f0b41-1628-488e-f111-24d90238c81f"
      },
      "outputs": [
        {
          "data": {
            "text/html": [
              "<div>\n",
              "<style scoped>\n",
              "    .dataframe tbody tr th:only-of-type {\n",
              "        vertical-align: middle;\n",
              "    }\n",
              "\n",
              "    .dataframe tbody tr th {\n",
              "        vertical-align: top;\n",
              "    }\n",
              "\n",
              "    .dataframe thead th {\n",
              "        text-align: right;\n",
              "    }\n",
              "</style>\n",
              "<table border=\"1\" class=\"dataframe\">\n",
              "  <thead>\n",
              "    <tr style=\"text-align: right;\">\n",
              "      <th></th>\n",
              "      <th>sno</th>\n",
              "    </tr>\n",
              "  </thead>\n",
              "  <tbody>\n",
              "    <tr>\n",
              "      <th>count</th>\n",
              "      <td>600.000000</td>\n",
              "    </tr>\n",
              "    <tr>\n",
              "      <th>mean</th>\n",
              "      <td>300.500000</td>\n",
              "    </tr>\n",
              "    <tr>\n",
              "      <th>std</th>\n",
              "      <td>173.349358</td>\n",
              "    </tr>\n",
              "    <tr>\n",
              "      <th>min</th>\n",
              "      <td>1.000000</td>\n",
              "    </tr>\n",
              "    <tr>\n",
              "      <th>25%</th>\n",
              "      <td>150.750000</td>\n",
              "    </tr>\n",
              "    <tr>\n",
              "      <th>50%</th>\n",
              "      <td>300.500000</td>\n",
              "    </tr>\n",
              "    <tr>\n",
              "      <th>75%</th>\n",
              "      <td>450.250000</td>\n",
              "    </tr>\n",
              "    <tr>\n",
              "      <th>max</th>\n",
              "      <td>600.000000</td>\n",
              "    </tr>\n",
              "  </tbody>\n",
              "</table>\n",
              "</div>"
            ],
            "text/plain": [
              "              sno\n",
              "count  600.000000\n",
              "mean   300.500000\n",
              "std    173.349358\n",
              "min      1.000000\n",
              "25%    150.750000\n",
              "50%    300.500000\n",
              "75%    450.250000\n",
              "max    600.000000"
            ]
          },
          "execution_count": 11,
          "metadata": {},
          "output_type": "execute_result"
        }
      ],
      "source": [
        "df.describe()"
      ]
    },
    {
      "cell_type": "code",
      "execution_count": 12,
      "metadata": {
        "colab": {
          "base_uri": "https://localhost:8080/",
          "height": 363
        },
        "id": "bu-6XbDqpb6A",
        "outputId": "823fc53d-4658-4dbc-c94c-26f9ed6af2c1"
      },
      "outputs": [
        {
          "data": {
            "text/html": [
              "<div>\n",
              "<style scoped>\n",
              "    .dataframe tbody tr th:only-of-type {\n",
              "        vertical-align: middle;\n",
              "    }\n",
              "\n",
              "    .dataframe tbody tr th {\n",
              "        vertical-align: top;\n",
              "    }\n",
              "\n",
              "    .dataframe thead th {\n",
              "        text-align: right;\n",
              "    }\n",
              "</style>\n",
              "<table border=\"1\" class=\"dataframe\">\n",
              "  <thead>\n",
              "    <tr style=\"text-align: right;\">\n",
              "      <th></th>\n",
              "      <th>user_query</th>\n",
              "      <th>intent</th>\n",
              "    </tr>\n",
              "  </thead>\n",
              "  <tbody>\n",
              "    <tr>\n",
              "      <th>0</th>\n",
              "      <td>What are the symptoms of the flu?</td>\n",
              "      <td>Symptom Inquiry</td>\n",
              "    </tr>\n",
              "    <tr>\n",
              "      <th>1</th>\n",
              "      <td>Can you suggest remedies for a sore throat?</td>\n",
              "      <td>Treatment Inquiry</td>\n",
              "    </tr>\n",
              "    <tr>\n",
              "      <th>2</th>\n",
              "      <td>What are the side effects of ibuprofen?</td>\n",
              "      <td>Medication Information</td>\n",
              "    </tr>\n",
              "    <tr>\n",
              "      <th>3</th>\n",
              "      <td>How can I relieve muscle pain after exercising?</td>\n",
              "      <td>Medical Advice</td>\n",
              "    </tr>\n",
              "    <tr>\n",
              "      <th>4</th>\n",
              "      <td>Tell me a joke!</td>\n",
              "      <td>Non-medical Queries</td>\n",
              "    </tr>\n",
              "    <tr>\n",
              "      <th>5</th>\n",
              "      <td>What is asthma?</td>\n",
              "      <td>Symptom Inquiry</td>\n",
              "    </tr>\n",
              "    <tr>\n",
              "      <th>6</th>\n",
              "      <td>How is arthritis treated?</td>\n",
              "      <td>Treatment Inquiry</td>\n",
              "    </tr>\n",
              "    <tr>\n",
              "      <th>7</th>\n",
              "      <td>Is it safe to take two different medications t...</td>\n",
              "      <td>Medication Information</td>\n",
              "    </tr>\n",
              "    <tr>\n",
              "      <th>8</th>\n",
              "      <td>Do you have any tips for managing stress?</td>\n",
              "      <td>Medical Advice</td>\n",
              "    </tr>\n",
              "    <tr>\n",
              "      <th>9</th>\n",
              "      <td>What's the capital of France?</td>\n",
              "      <td>Non-medical Queries</td>\n",
              "    </tr>\n",
              "  </tbody>\n",
              "</table>\n",
              "</div>"
            ],
            "text/plain": [
              "                                          user_query                  intent\n",
              "0                  What are the symptoms of the flu?         Symptom Inquiry\n",
              "1        Can you suggest remedies for a sore throat?       Treatment Inquiry\n",
              "2            What are the side effects of ibuprofen?  Medication Information\n",
              "3    How can I relieve muscle pain after exercising?          Medical Advice\n",
              "4                                    Tell me a joke!     Non-medical Queries\n",
              "5                                    What is asthma?         Symptom Inquiry\n",
              "6                          How is arthritis treated?       Treatment Inquiry\n",
              "7  Is it safe to take two different medications t...  Medication Information\n",
              "8          Do you have any tips for managing stress?          Medical Advice\n",
              "9                      What's the capital of France?     Non-medical Queries"
            ]
          },
          "execution_count": 12,
          "metadata": {},
          "output_type": "execute_result"
        }
      ],
      "source": [
        "# Data cleaning\n",
        "df.drop(\"sno\", axis=1, inplace=True)\n",
        "\n",
        "df.head(10)"
      ]
    },
    {
      "cell_type": "code",
      "execution_count": 13,
      "metadata": {
        "colab": {
          "base_uri": "https://localhost:8080/"
        },
        "id": "VmuRtjoEpb3c",
        "outputId": "caf2544a-c240-4dbd-c7d4-5628ab23aee6"
      },
      "outputs": [
        {
          "data": {
            "text/plain": [
              "intent\n",
              "Symptom Inquiry           120\n",
              "Treatment Inquiry         120\n",
              "Medication Information    120\n",
              "Medical Advice            120\n",
              "Non-medical Queries       120\n",
              "Name: count, dtype: int64"
            ]
          },
          "execution_count": 13,
          "metadata": {},
          "output_type": "execute_result"
        }
      ],
      "source": [
        "df[\"intent\"].value_counts()"
      ]
    },
    {
      "cell_type": "code",
      "execution_count": 14,
      "metadata": {
        "colab": {
          "base_uri": "https://localhost:8080/"
        },
        "id": "LJpbvWFBn-Es",
        "outputId": "1b740b02-b062-4dd5-fe80-d7a7a94489f9"
      },
      "outputs": [
        {
          "name": "stdout",
          "output_type": "stream",
          "text": [
            "480 <--TrainSet ||| TestSet--> 120\n",
            "                                            user_query               intent\n",
            "145  I have a sore throat and cough. What should I do?      Symptom Inquiry\n",
            "9                        What's the capital of France?  Non-medical Queries\n",
            "375  What are the symptoms of a urinary tract infec...      Symptom Inquiry\n",
            "523        How can I improve my cardiovascular health?       Medical Advice\n",
            "188  How can I improve my mental focus and concentr...       Medical Advice\n",
            "\n",
            "\n",
            "                                            user_query                  intent\n",
            "110  What are the symptoms of a urinary tract infec...         Symptom Inquiry\n",
            "419           What's the latest technology innovation?     Non-medical Queries\n",
            "565        What are the symptoms of a sinus infection?         Symptom Inquiry\n",
            "77   Are there any side effects of birth control pi...  Medication Information\n",
            "181               How can I relieve back pain at home?       Treatment Inquiry\n"
          ]
        }
      ],
      "source": [
        "# Test-train split\n",
        "from sklearn.model_selection import train_test_split\n",
        "\n",
        "# random_state parameter is the random seed to keep the output same\n",
        "trainSet, testSet = train_test_split(df, test_size=0.2, random_state=42)\n",
        "\n",
        "print(len(trainSet), len(testSet), sep=\" <--TrainSet ||| TestSet--> \")\n",
        "print(trainSet.head(), testSet.head(), sep=\"\\n\\n\\n\")"
      ]
    },
    {
      "cell_type": "code",
      "execution_count": 15,
      "metadata": {
        "id": "KJRlqqeepJWz"
      },
      "outputs": [],
      "source": [
        "import tensorflow as tf\n",
        "from tensorflow.keras.layers import TextVectorization\n",
        "\n",
        "# Use the default TextVectorisation variables\n",
        "text_vectorizer = TextVectorization(max_tokens=None, # how many words in the\n",
        "                                                     # vocabulary (all of the\n",
        "                                                     # different words in your\n",
        "                                                     # text)\n",
        "                                    # how to process text\n",
        "                                    standardize=\"lower_and_strip_punctuation\",\n",
        "                                    split=\"whitespace\", # how to split tokens\n",
        "                                    ngrams=None, # create groups of n-words?\n",
        "                                    output_mode=\"int\", # how to map tokens to\n",
        "                                                       # numbers\n",
        "                                    output_sequence_length=None) # how long\n",
        "                                                                 # should the\n",
        "                                                                 # output sequence"
      ]
    },
    {
      "cell_type": "code",
      "execution_count": 16,
      "metadata": {
        "colab": {
          "base_uri": "https://localhost:8080/"
        },
        "id": "nP0l8ga_0ufN",
        "outputId": "ca05b0da-a181-4fd5-cde7-4b58b9e9c092"
      },
      "outputs": [
        {
          "name": "stdout",
          "output_type": "stream",
          "text": [
            "480\n",
            "480\n"
          ]
        }
      ],
      "source": [
        "X_train = trainSet[\"user_query\"]\n",
        "y_train = trainSet[\"intent\"]\n",
        "\n",
        "print(len(X_train))\n",
        "print(len(y_train))"
      ]
    },
    {
      "cell_type": "code",
      "execution_count": 17,
      "metadata": {
        "colab": {
          "base_uri": "https://localhost:8080/"
        },
        "id": "5naUNmQB1HSi",
        "outputId": "fd0401c2-6583-46b8-fecb-37da18718586"
      },
      "outputs": [
        {
          "data": {
            "text/plain": [
              "8"
            ]
          },
          "execution_count": 17,
          "metadata": {},
          "output_type": "execute_result"
        }
      ],
      "source": [
        "# Find average number of tokens (words) in training tweets\n",
        "maxLen = round(sum([len(i.split()) for i in X_train]) / len(X_train))\n",
        "maxLen"
      ]
    },
    {
      "cell_type": "code",
      "execution_count": 18,
      "metadata": {
        "id": "Ze44QKcl1yAv"
      },
      "outputs": [],
      "source": [
        "# Setup text vectorization with custom variables\n",
        "max_vocab_length = 10000 # max number of words to have in our vocabulary\n",
        "max_length = maxLen # max length our sequences will be (e.g. how many words from a\n",
        "                    # Tweet does our model see?)\n",
        "\n",
        "text_vectorizer = TextVectorization(max_tokens=max_vocab_length,\n",
        "                                    output_mode=\"int\",\n",
        "                                    output_sequence_length=max_length)"
      ]
    },
    {
      "cell_type": "code",
      "execution_count": 19,
      "metadata": {
        "id": "pgTqnc0Z2Eus"
      },
      "outputs": [],
      "source": [
        "# Fit the text vectorizer to the training text\n",
        "text_vectorizer.adapt(X_train)"
      ]
    },
    {
      "cell_type": "code",
      "execution_count": 20,
      "metadata": {
        "colab": {
          "base_uri": "https://localhost:8080/"
        },
        "id": "LpbaLa6X2I3M",
        "outputId": "d02711c7-a153-4e00-f806-6a23bc966075"
      },
      "outputs": [
        {
          "data": {
            "text/plain": [
              "<tf.Tensor: shape=(1, 8), dtype=int64, numpy=array([[ 19,   2,  48, 175, 119,   0,   0,   0]], dtype=int64)>"
            ]
          },
          "execution_count": 20,
          "metadata": {},
          "output_type": "execute_result"
        }
      ],
      "source": [
        "# Create sample sentence and tokenize it\n",
        "sample_sentence = \"What's the latest sports news?\"\n",
        "text_vectorizer([sample_sentence])"
      ]
    },
    {
      "cell_type": "code",
      "execution_count": 21,
      "metadata": {
        "colab": {
          "base_uri": "https://localhost:8080/"
        },
        "id": "X7xVgQgr2SAX",
        "outputId": "1ec80692-e388-4e65-aea6-3925b3443a80"
      },
      "outputs": [
        {
          "name": "stdout",
          "output_type": "stream",
          "text": [
            "Original text:\n",
            "How is diabetes managed?      \n",
            "\n",
            "Vectorized version:\n"
          ]
        },
        {
          "data": {
            "text/plain": [
              "<tf.Tensor: shape=(1, 8), dtype=int64, numpy=array([[10, 28, 44, 35,  0,  0,  0,  0]], dtype=int64)>"
            ]
          },
          "execution_count": 21,
          "metadata": {},
          "output_type": "execute_result"
        }
      ],
      "source": [
        "# Choose a random sentence from the training dataset and tokenize it\n",
        "import random\n",
        "random_sentence = random.choice(X_train)\n",
        "print(f\"Original text:\\n{random_sentence}\\\n",
        "      \\n\\nVectorized version:\")\n",
        "text_vectorizer([random_sentence])"
      ]
    },
    {
      "cell_type": "code",
      "execution_count": 22,
      "metadata": {
        "colab": {
          "base_uri": "https://localhost:8080/"
        },
        "id": "EatlB_1j2dM3",
        "outputId": "be8375bd-3167-44a8-db1b-a5f6877ff75f"
      },
      "outputs": [
        {
          "name": "stdout",
          "output_type": "stream",
          "text": [
            "Number of words in vocab: 253\n",
            "Top 5 most common words: ['', '[UNK]', 'the', 'can', 'are']\n",
            "Bottom 5 least common words: ['book', 'blood', 'be', 'attack', 'aspirin']\n"
          ]
        }
      ],
      "source": [
        "# Get the unique words in the vocabulary\n",
        "words_in_vocab = text_vectorizer.get_vocabulary()\n",
        "top_5_words = words_in_vocab[ : 5] # most common tokens (notice the [UNK] token\n",
        "                                 # for \"unknown\" words)\n",
        "bottom_5_words = words_in_vocab[-5:] # least common tokens\n",
        "print(f\"Number of words in vocab: {len(words_in_vocab)}\")\n",
        "print(f\"Top 5 most common words: {top_5_words}\")\n",
        "print(f\"Bottom 5 least common words: {bottom_5_words}\")"
      ]
    },
    {
      "cell_type": "code",
      "execution_count": 23,
      "metadata": {
        "colab": {
          "base_uri": "https://localhost:8080/"
        },
        "id": "Ekb3Jtjh2nfL",
        "outputId": "6162de2a-518f-4ef3-9e6c-4521cd8011f7"
      },
      "outputs": [
        {
          "data": {
            "text/plain": [
              "<keras.src.layers.core.embedding.Embedding at 0x17f25ed8d90>"
            ]
          },
          "execution_count": 23,
          "metadata": {},
          "output_type": "execute_result"
        }
      ],
      "source": [
        "from tensorflow.keras import layers\n",
        "\n",
        "tf.random.set_seed(42)\n",
        "embedding = layers.Embedding(input_dim=max_vocab_length, # set input shape\n",
        "                             output_dim=128, # set size of embedding vector\n",
        "                             embeddings_initializer=\"uniform\", # default,\n",
        "                                                               # intialize\n",
        "                                                               # randomly\n",
        "                             input_length=max_length, # how long is each input\n",
        "                             name=\"embedding_1\")\n",
        "\n",
        "embedding"
      ]
    },
    {
      "cell_type": "code",
      "execution_count": 24,
      "metadata": {
        "colab": {
          "base_uri": "https://localhost:8080/"
        },
        "id": "ifSFBfFU21HM",
        "outputId": "28a2c0e2-8916-4ad9-8f85-cb83b159e05c"
      },
      "outputs": [
        {
          "name": "stdout",
          "output_type": "stream",
          "text": [
            "Original text:\n",
            "I have a sore throat and fever. Should I see a doctor?      \n",
            "\n",
            "Embedded version:\n"
          ]
        },
        {
          "data": {
            "text/plain": [
              "<tf.Tensor: shape=(1, 8, 128), dtype=float32, numpy=\n",
              "array([[[ 0.02657813,  0.02375447, -0.02775292, ...,  0.03366859,\n",
              "          0.00890239,  0.04800744],\n",
              "        [ 0.04463801,  0.03169176, -0.03659219, ...,  0.02845874,\n",
              "         -0.01232802, -0.03836731],\n",
              "        [ 0.0463779 , -0.03603455,  0.011273  , ...,  0.01538581,\n",
              "         -0.0157498 , -0.04347318],\n",
              "        ...,\n",
              "        [ 0.04070635,  0.01097725, -0.03088051, ...,  0.04258109,\n",
              "         -0.00198812,  0.03329751],\n",
              "        [ 0.04153654,  0.00226883, -0.01576544, ..., -0.03825042,\n",
              "          0.02903656,  0.04963911],\n",
              "        [-0.01371101,  0.00128777,  0.02418203, ...,  0.02150855,\n",
              "          0.03496372, -0.00992824]]], dtype=float32)>"
            ]
          },
          "execution_count": 24,
          "metadata": {},
          "output_type": "execute_result"
        }
      ],
      "source": [
        "# Get a random sentence from training set\n",
        "random_sentence = random.choice(X_train)\n",
        "print(f\"Original text:\\n{random_sentence}\\\n",
        "      \\n\\nEmbedded version:\")\n",
        "\n",
        "# Embed the random sentence (turn it into numerical representation)\n",
        "sample_embed = embedding(text_vectorizer([random_sentence]))\n",
        "sample_embed"
      ]
    },
    {
      "cell_type": "code",
      "execution_count": 25,
      "metadata": {
        "colab": {
          "base_uri": "https://localhost:8080/",
          "height": 126
        },
        "id": "tGRvrHmO27kZ",
        "outputId": "ec7dc442-9233-47ee-9580-870b8146bb3e"
      },
      "outputs": [
        {
          "data": {
            "text/html": [
              "<style>#sk-container-id-1 {color: black;}#sk-container-id-1 pre{padding: 0;}#sk-container-id-1 div.sk-toggleable {background-color: white;}#sk-container-id-1 label.sk-toggleable__label {cursor: pointer;display: block;width: 100%;margin-bottom: 0;padding: 0.3em;box-sizing: border-box;text-align: center;}#sk-container-id-1 label.sk-toggleable__label-arrow:before {content: \"▸\";float: left;margin-right: 0.25em;color: #696969;}#sk-container-id-1 label.sk-toggleable__label-arrow:hover:before {color: black;}#sk-container-id-1 div.sk-estimator:hover label.sk-toggleable__label-arrow:before {color: black;}#sk-container-id-1 div.sk-toggleable__content {max-height: 0;max-width: 0;overflow: hidden;text-align: left;background-color: #f0f8ff;}#sk-container-id-1 div.sk-toggleable__content pre {margin: 0.2em;color: black;border-radius: 0.25em;background-color: #f0f8ff;}#sk-container-id-1 input.sk-toggleable__control:checked~div.sk-toggleable__content {max-height: 200px;max-width: 100%;overflow: auto;}#sk-container-id-1 input.sk-toggleable__control:checked~label.sk-toggleable__label-arrow:before {content: \"▾\";}#sk-container-id-1 div.sk-estimator input.sk-toggleable__control:checked~label.sk-toggleable__label {background-color: #d4ebff;}#sk-container-id-1 div.sk-label input.sk-toggleable__control:checked~label.sk-toggleable__label {background-color: #d4ebff;}#sk-container-id-1 input.sk-hidden--visually {border: 0;clip: rect(1px 1px 1px 1px);clip: rect(1px, 1px, 1px, 1px);height: 1px;margin: -1px;overflow: hidden;padding: 0;position: absolute;width: 1px;}#sk-container-id-1 div.sk-estimator {font-family: monospace;background-color: #f0f8ff;border: 1px dotted black;border-radius: 0.25em;box-sizing: border-box;margin-bottom: 0.5em;}#sk-container-id-1 div.sk-estimator:hover {background-color: #d4ebff;}#sk-container-id-1 div.sk-parallel-item::after {content: \"\";width: 100%;border-bottom: 1px solid gray;flex-grow: 1;}#sk-container-id-1 div.sk-label:hover label.sk-toggleable__label {background-color: #d4ebff;}#sk-container-id-1 div.sk-serial::before {content: \"\";position: absolute;border-left: 1px solid gray;box-sizing: border-box;top: 0;bottom: 0;left: 50%;z-index: 0;}#sk-container-id-1 div.sk-serial {display: flex;flex-direction: column;align-items: center;background-color: white;padding-right: 0.2em;padding-left: 0.2em;position: relative;}#sk-container-id-1 div.sk-item {position: relative;z-index: 1;}#sk-container-id-1 div.sk-parallel {display: flex;align-items: stretch;justify-content: center;background-color: white;position: relative;}#sk-container-id-1 div.sk-item::before, #sk-container-id-1 div.sk-parallel-item::before {content: \"\";position: absolute;border-left: 1px solid gray;box-sizing: border-box;top: 0;bottom: 0;left: 50%;z-index: -1;}#sk-container-id-1 div.sk-parallel-item {display: flex;flex-direction: column;z-index: 1;position: relative;background-color: white;}#sk-container-id-1 div.sk-parallel-item:first-child::after {align-self: flex-end;width: 50%;}#sk-container-id-1 div.sk-parallel-item:last-child::after {align-self: flex-start;width: 50%;}#sk-container-id-1 div.sk-parallel-item:only-child::after {width: 0;}#sk-container-id-1 div.sk-dashed-wrapped {border: 1px dashed gray;margin: 0 0.4em 0.5em 0.4em;box-sizing: border-box;padding-bottom: 0.4em;background-color: white;}#sk-container-id-1 div.sk-label label {font-family: monospace;font-weight: bold;display: inline-block;line-height: 1.2em;}#sk-container-id-1 div.sk-label-container {text-align: center;}#sk-container-id-1 div.sk-container {/* jupyter's `normalize.less` sets `[hidden] { display: none; }` but bootstrap.min.css set `[hidden] { display: none !important; }` so we also need the `!important` here to be able to override the default hidden behavior on the sphinx rendered scikit-learn.org. See: https://github.com/scikit-learn/scikit-learn/issues/21755 */display: inline-block !important;position: relative;}#sk-container-id-1 div.sk-text-repr-fallback {display: none;}</style><div id=\"sk-container-id-1\" class=\"sk-top-container\"><div class=\"sk-text-repr-fallback\"><pre>Pipeline(steps=[(&#x27;tfidf&#x27;, TfidfVectorizer()), (&#x27;clf&#x27;, MultinomialNB())])</pre><b>In a Jupyter environment, please rerun this cell to show the HTML representation or trust the notebook. <br />On GitHub, the HTML representation is unable to render, please try loading this page with nbviewer.org.</b></div><div class=\"sk-container\" hidden><div class=\"sk-item sk-dashed-wrapped\"><div class=\"sk-label-container\"><div class=\"sk-label sk-toggleable\"><input class=\"sk-toggleable__control sk-hidden--visually\" id=\"sk-estimator-id-1\" type=\"checkbox\" ><label for=\"sk-estimator-id-1\" class=\"sk-toggleable__label sk-toggleable__label-arrow\">Pipeline</label><div class=\"sk-toggleable__content\"><pre>Pipeline(steps=[(&#x27;tfidf&#x27;, TfidfVectorizer()), (&#x27;clf&#x27;, MultinomialNB())])</pre></div></div></div><div class=\"sk-serial\"><div class=\"sk-item\"><div class=\"sk-estimator sk-toggleable\"><input class=\"sk-toggleable__control sk-hidden--visually\" id=\"sk-estimator-id-2\" type=\"checkbox\" ><label for=\"sk-estimator-id-2\" class=\"sk-toggleable__label sk-toggleable__label-arrow\">TfidfVectorizer</label><div class=\"sk-toggleable__content\"><pre>TfidfVectorizer()</pre></div></div></div><div class=\"sk-item\"><div class=\"sk-estimator sk-toggleable\"><input class=\"sk-toggleable__control sk-hidden--visually\" id=\"sk-estimator-id-3\" type=\"checkbox\" ><label for=\"sk-estimator-id-3\" class=\"sk-toggleable__label sk-toggleable__label-arrow\">MultinomialNB</label><div class=\"sk-toggleable__content\"><pre>MultinomialNB()</pre></div></div></div></div></div></div></div>"
            ],
            "text/plain": [
              "Pipeline(steps=[('tfidf', TfidfVectorizer()), ('clf', MultinomialNB())])"
            ]
          },
          "execution_count": 25,
          "metadata": {},
          "output_type": "execute_result"
        }
      ],
      "source": [
        "from sklearn.feature_extraction.text import TfidfVectorizer\n",
        "from sklearn.naive_bayes import MultinomialNB\n",
        "from sklearn.pipeline import Pipeline\n",
        "\n",
        "# Create tokenization and modelling pipeline\n",
        "intentClassifierModel = Pipeline([\n",
        "                    (\"tfidf\", TfidfVectorizer()), # convert words to numbers\n",
        "                                                  # using tfidf\n",
        "                    (\"clf\", MultinomialNB()) # model the text\n",
        "])\n",
        "\n",
        "# Fit the pipeline to the training data\n",
        "intentClassifierModel.fit(X_train, y_train)"
      ]
    },
    {
      "cell_type": "code",
      "execution_count": 26,
      "metadata": {
        "colab": {
          "base_uri": "https://localhost:8080/"
        },
        "id": "wJKiIJBu3Q5D",
        "outputId": "1ff51643-33e9-4d75-dae0-1a134f1757bb"
      },
      "outputs": [
        {
          "name": "stdout",
          "output_type": "stream",
          "text": [
            "Our baseline model achieves an accuracy of: 98.7500%\n"
          ]
        }
      ],
      "source": [
        "baseline_score = intentClassifierModel.score(X_train, y_train)\n",
        "print(f\"Our baseline model achieves an accuracy of: \\\n",
        "{baseline_score * 100:.4f}%\")"
      ]
    },
    {
      "cell_type": "code",
      "execution_count": 27,
      "metadata": {
        "id": "LO6vGovG3pPo"
      },
      "outputs": [],
      "source": [
        "# Make predictions\n",
        "baseline_preds = intentClassifierModel.predict_log_proba(testSet)"
      ]
    },
    {
      "cell_type": "code",
      "execution_count": 28,
      "metadata": {
        "colab": {
          "base_uri": "https://localhost:8080/"
        },
        "id": "9to82HLF35ja",
        "outputId": "dc1a9585-ce18-4682-8603-3efbb21153c7"
      },
      "outputs": [
        {
          "name": "stdout",
          "output_type": "stream",
          "text": [
            "['Medication Information' 'Medication Information']\n"
          ]
        },
        {
          "data": {
            "text/plain": [
              "Series([], Name: intent, dtype: object)"
            ]
          },
          "execution_count": 28,
          "metadata": {},
          "output_type": "execute_result"
        }
      ],
      "source": [
        "import numpy as np\n",
        "print(intentClassifierModel.predict(testSet))\n",
        "\n",
        "# Assume log_probs is the output of predict_log_proba\n",
        "# Convert log probabilities to probabilities\n",
        "probs = np.exp(baseline_preds)\n",
        "\n",
        "# Find the classes with more than 40 percent probability\n",
        "classes_over_40 = np.where(probs > 0.4)\n",
        "y_train[classes_over_40[0]]"
      ]
    },
    {
      "cell_type": "code",
      "execution_count": 30,
      "metadata": {
        "colab": {
          "base_uri": "https://localhost:8080/"
        },
        "id": "Sly9dqiW4NwP",
        "outputId": "3061549f-2240-4120-b2f2-f9be73d59f8a"
      },
      "outputs": [],
      "source": [
        "# Save model to load later\n",
        "import pickle as pkl\n",
        "\n",
        "pkl.dump(intentClassifierModel, open(\"../custom_trained_models/intentClassifierModel0.pkl\",\n",
        "                                    'wb'))"
      ]
    },
    {
      "cell_type": "code",
      "execution_count": null,
      "metadata": {},
      "outputs": [],
      "source": []
    }
  ],
  "metadata": {
    "colab": {
      "provenance": []
    },
    "kernelspec": {
      "display_name": "Python 3",
      "name": "python3"
    },
    "language_info": {
      "codemirror_mode": {
        "name": "ipython",
        "version": 3
      },
      "file_extension": ".py",
      "mimetype": "text/x-python",
      "name": "python",
      "nbconvert_exporter": "python",
      "pygments_lexer": "ipython3",
      "version": "3.11.4"
    }
  },
  "nbformat": 4,
  "nbformat_minor": 0
}
